{
 "cells": [
  {
   "cell_type": "markdown",
   "metadata": {},
   "source": [
    "## Project Description"
   ]
  },
  {
   "cell_type": "markdown",
   "metadata": {},
   "source": [
    "MLB Advanced Media, as stated in a job description for which I was intrigued by, was looking to develop insights into predictability of a hit based on data acquired through their Statcast tool. Statcast is a high-speed, high-accuracy device that tracks ball and player movements. \n",
    "\n",
    "The findings of this task would be for use by analysts and commentators during game broadcasts. The problem statement for the specfic prediction I undertook is:\n",
    "\n",
    "Based on the ballistics of the pitch and the ball hit into play, what is the likelihood it results in a hit."
   ]
  },
  {
   "cell_type": "markdown",
   "metadata": {},
   "source": [
    "## Notebook Description"
   ]
  },
  {
   "cell_type": "markdown",
   "metadata": {},
   "source": [
    "2\\. **Clean data** by handling null values and adjusting data types and **engineer features** necessary for analysis\n",
    "\n",
    "- Read in and inspect data from Postres\n",
    "- Inspect null-values, determine null definitions, and incorporate null-handling procedures\n",
    "\n",
    "|   Fields   |   Null Meaning  |   Data Type   |\n",
    "| -----------|:---------------:|--------------:|\n",
    "| pitch | unknown | Object |\n",
    "| mph | unknown | Float |\n",
    "| ev_mph | ball not hit | Float |\n",
    "| dist | ball not hit | Integer |\n",
    "| spin_rate | unknown | Integer |\n",
    "| launch_angle | ball not hit | Float |\n",
    "| zone | unknown | Object |\n",
    "| ab_result | pitch did not end ab | Object | \n",
    "\n",
    "- Correct data types\n",
    "- Merge in pitch types to provide clarity to the abbreviated field `pitch`\n",
    "- Using `pitch_results` and `ab_result`, create `hit_flag` field to be used as modeling target\n",
    "- Pickle data"
   ]
  },
  {
   "cell_type": "markdown",
   "metadata": {},
   "source": [
    "___________"
   ]
  },
  {
   "cell_type": "markdown",
   "metadata": {},
   "source": [
    "### Initialize packages and create Postgres connection"
   ]
  },
  {
   "cell_type": "code",
   "execution_count": 1,
   "metadata": {},
   "outputs": [],
   "source": [
    "# ! pip install missingno --quiet"
   ]
  },
  {
   "cell_type": "code",
   "execution_count": 2,
   "metadata": {
    "scrolled": true
   },
   "outputs": [],
   "source": [
    "% run __init__.py"
   ]
  },
  {
   "cell_type": "code",
   "execution_count": 3,
   "metadata": {},
   "outputs": [],
   "source": [
    "def connect_to_db(host='postgres', dbname='postgres', user='postgres', password='postgres', port=5432):\n",
    "    con = pg2.connect(host=host, dbname=dbname, user=user)\n",
    "    cur = con.cursor(cursor_factory=RealDictCursor)\n",
    "    \n",
    "    url = 'postgresql://{}:{}@{}:{}/{}'\n",
    "    url = url.format(user, password, host, port, dbname)\n",
    "    engine = create_engine(url)\n",
    "    \n",
    "    return con, cur, engine\n",
    "\n",
    "# split cursor/connection from engine"
   ]
  },
  {
   "cell_type": "code",
   "execution_count": 4,
   "metadata": {},
   "outputs": [],
   "source": [
    "con, cur, engine = connect_to_db()"
   ]
  },
  {
   "cell_type": "code",
   "execution_count": 5,
   "metadata": {},
   "outputs": [
    {
     "data": {
      "text/plain": [
       "['pitchers']"
      ]
     },
     "execution_count": 5,
     "metadata": {},
     "output_type": "execute_result"
    }
   ],
   "source": [
    "engine.table_names()"
   ]
  },
  {
   "cell_type": "markdown",
   "metadata": {},
   "source": [
    "### Read in Data from Postgres"
   ]
  },
  {
   "cell_type": "code",
   "execution_count": 6,
   "metadata": {},
   "outputs": [],
   "source": [
    "sql = \"\"\"\n",
    "SELECT * FROM pitchers\n",
    "\"\"\"\n",
    "df = pd.read_sql(sql, con=engine)"
   ]
  },
  {
   "cell_type": "code",
   "execution_count": 7,
   "metadata": {},
   "outputs": [
    {
     "data": {
      "text/html": [
       "<div>\n",
       "<table border=\"1\" class=\"dataframe\">\n",
       "  <thead>\n",
       "    <tr style=\"text-align: right;\">\n",
       "      <th></th>\n",
       "      <th>player_id</th>\n",
       "      <th>pitch</th>\n",
       "      <th>mph</th>\n",
       "      <th>ev_mph</th>\n",
       "      <th>pitcher</th>\n",
       "      <th>batter</th>\n",
       "      <th>dist</th>\n",
       "      <th>spin_rate</th>\n",
       "      <th>launch_angle</th>\n",
       "      <th>perceived_vel</th>\n",
       "      <th>zone</th>\n",
       "      <th>game_date</th>\n",
       "      <th>ab_count</th>\n",
       "      <th>inning</th>\n",
       "      <th>pitch_result</th>\n",
       "      <th>ab_result</th>\n",
       "    </tr>\n",
       "    <tr>\n",
       "      <th>unique_id</th>\n",
       "      <th></th>\n",
       "      <th></th>\n",
       "      <th></th>\n",
       "      <th></th>\n",
       "      <th></th>\n",
       "      <th></th>\n",
       "      <th></th>\n",
       "      <th></th>\n",
       "      <th></th>\n",
       "      <th></th>\n",
       "      <th></th>\n",
       "      <th></th>\n",
       "      <th></th>\n",
       "      <th></th>\n",
       "      <th></th>\n",
       "      <th></th>\n",
       "    </tr>\n",
       "  </thead>\n",
       "  <tbody>\n",
       "    <tr>\n",
       "      <th>434378-1</th>\n",
       "      <td>434378</td>\n",
       "      <td>FF</td>\n",
       "      <td>97.2</td>\n",
       "      <td>NaN</td>\n",
       "      <td>Justin Verlander</td>\n",
       "      <td>Rougned Odor</td>\n",
       "      <td>NaN</td>\n",
       "      <td>2526.0</td>\n",
       "      <td>NaN</td>\n",
       "      <td>None</td>\n",
       "      <td>11.0</td>\n",
       "      <td>2017-09-27</td>\n",
       "      <td>2-2</td>\n",
       "      <td>Bot 6</td>\n",
       "      <td>swinging_strike</td>\n",
       "      <td>Rougned Odor strikes out swinging.</td>\n",
       "    </tr>\n",
       "    <tr>\n",
       "      <th>434378-2</th>\n",
       "      <td>434378</td>\n",
       "      <td>FF</td>\n",
       "      <td>96.5</td>\n",
       "      <td>78.9</td>\n",
       "      <td>Justin Verlander</td>\n",
       "      <td>Rougned Odor</td>\n",
       "      <td>195.0</td>\n",
       "      <td>2581.0</td>\n",
       "      <td>23.5971</td>\n",
       "      <td>None</td>\n",
       "      <td>1.0</td>\n",
       "      <td>2017-09-27</td>\n",
       "      <td>2-2</td>\n",
       "      <td>Bot 6</td>\n",
       "      <td>foul</td>\n",
       "      <td>None</td>\n",
       "    </tr>\n",
       "    <tr>\n",
       "      <th>434378-3</th>\n",
       "      <td>434378</td>\n",
       "      <td>FF</td>\n",
       "      <td>97.0</td>\n",
       "      <td>77.2</td>\n",
       "      <td>Justin Verlander</td>\n",
       "      <td>Rougned Odor</td>\n",
       "      <td>221.0</td>\n",
       "      <td>2507.0</td>\n",
       "      <td>38.4774</td>\n",
       "      <td>None</td>\n",
       "      <td>11.0</td>\n",
       "      <td>2017-09-27</td>\n",
       "      <td>2-2</td>\n",
       "      <td>Bot 6</td>\n",
       "      <td>foul</td>\n",
       "      <td>None</td>\n",
       "    </tr>\n",
       "    <tr>\n",
       "      <th>434378-4</th>\n",
       "      <td>434378</td>\n",
       "      <td>CH</td>\n",
       "      <td>88.2</td>\n",
       "      <td>NaN</td>\n",
       "      <td>Justin Verlander</td>\n",
       "      <td>Rougned Odor</td>\n",
       "      <td>NaN</td>\n",
       "      <td>1786.0</td>\n",
       "      <td>NaN</td>\n",
       "      <td>None</td>\n",
       "      <td>14.0</td>\n",
       "      <td>2017-09-27</td>\n",
       "      <td>1-2</td>\n",
       "      <td>Bot 6</td>\n",
       "      <td>ball</td>\n",
       "      <td>None</td>\n",
       "    </tr>\n",
       "    <tr>\n",
       "      <th>434378-5</th>\n",
       "      <td>434378</td>\n",
       "      <td>CH</td>\n",
       "      <td>87.8</td>\n",
       "      <td>NaN</td>\n",
       "      <td>Justin Verlander</td>\n",
       "      <td>Rougned Odor</td>\n",
       "      <td>NaN</td>\n",
       "      <td>1762.0</td>\n",
       "      <td>NaN</td>\n",
       "      <td>None</td>\n",
       "      <td>13.0</td>\n",
       "      <td>2017-09-27</td>\n",
       "      <td>0-2</td>\n",
       "      <td>Bot 6</td>\n",
       "      <td>ball</td>\n",
       "      <td>None</td>\n",
       "    </tr>\n",
       "  </tbody>\n",
       "</table>\n",
       "</div>"
      ],
      "text/plain": [
       "           player_id pitch   mph  ev_mph           pitcher        batter  \\\n",
       "unique_id                                                                  \n",
       "434378-1      434378    FF  97.2     NaN  Justin Verlander  Rougned Odor   \n",
       "434378-2      434378    FF  96.5    78.9  Justin Verlander  Rougned Odor   \n",
       "434378-3      434378    FF  97.0    77.2  Justin Verlander  Rougned Odor   \n",
       "434378-4      434378    CH  88.2     NaN  Justin Verlander  Rougned Odor   \n",
       "434378-5      434378    CH  87.8     NaN  Justin Verlander  Rougned Odor   \n",
       "\n",
       "            dist  spin_rate  launch_angle perceived_vel  zone   game_date  \\\n",
       "unique_id                                                                   \n",
       "434378-1     NaN     2526.0           NaN          None  11.0  2017-09-27   \n",
       "434378-2   195.0     2581.0       23.5971          None   1.0  2017-09-27   \n",
       "434378-3   221.0     2507.0       38.4774          None  11.0  2017-09-27   \n",
       "434378-4     NaN     1786.0           NaN          None  14.0  2017-09-27   \n",
       "434378-5     NaN     1762.0           NaN          None  13.0  2017-09-27   \n",
       "\n",
       "          ab_count inning     pitch_result  \\\n",
       "unique_id                                    \n",
       "434378-1       2-2  Bot 6  swinging_strike   \n",
       "434378-2       2-2  Bot 6             foul   \n",
       "434378-3       2-2  Bot 6             foul   \n",
       "434378-4       1-2  Bot 6             ball   \n",
       "434378-5       0-2  Bot 6             ball   \n",
       "\n",
       "                                      ab_result  \n",
       "unique_id                                        \n",
       "434378-1   Rougned Odor strikes out swinging.    \n",
       "434378-2                                   None  \n",
       "434378-3                                   None  \n",
       "434378-4                                   None  \n",
       "434378-5                                   None  "
      ]
     },
     "execution_count": 7,
     "metadata": {},
     "output_type": "execute_result"
    }
   ],
   "source": [
    "df.set_index('unique_id', inplace=True)\n",
    "df.head()"
   ]
  },
  {
   "cell_type": "markdown",
   "metadata": {},
   "source": [
    "### Preliminary EDA"
   ]
  },
  {
   "cell_type": "code",
   "execution_count": 8,
   "metadata": {
    "scrolled": false
   },
   "outputs": [
    {
     "data": {
      "text/html": [
       "<div>\n",
       "<table border=\"1\" class=\"dataframe\">\n",
       "  <thead>\n",
       "    <tr style=\"text-align: right;\">\n",
       "      <th></th>\n",
       "      <th>count</th>\n",
       "      <th>mean</th>\n",
       "      <th>std</th>\n",
       "      <th>min</th>\n",
       "      <th>25%</th>\n",
       "      <th>50%</th>\n",
       "      <th>75%</th>\n",
       "      <th>max</th>\n",
       "    </tr>\n",
       "  </thead>\n",
       "  <tbody>\n",
       "    <tr>\n",
       "      <th>player_id</th>\n",
       "      <td>721436.0</td>\n",
       "      <td>535093.470836</td>\n",
       "      <td>75171.533840</td>\n",
       "      <td>112526.0000</td>\n",
       "      <td>475479.00000</td>\n",
       "      <td>543272.00000</td>\n",
       "      <td>596001.000000</td>\n",
       "      <td>664701.00</td>\n",
       "    </tr>\n",
       "    <tr>\n",
       "      <th>mph</th>\n",
       "      <td>715715.0</td>\n",
       "      <td>88.637119</td>\n",
       "      <td>6.020190</td>\n",
       "      <td>36.4000</td>\n",
       "      <td>84.50000</td>\n",
       "      <td>90.00000</td>\n",
       "      <td>93.300000</td>\n",
       "      <td>104.20</td>\n",
       "    </tr>\n",
       "    <tr>\n",
       "      <th>ev_mph</th>\n",
       "      <td>202658.0</td>\n",
       "      <td>81.504538</td>\n",
       "      <td>16.416798</td>\n",
       "      <td>3.4000</td>\n",
       "      <td>71.80000</td>\n",
       "      <td>82.80000</td>\n",
       "      <td>94.200000</td>\n",
       "      <td>129.80</td>\n",
       "    </tr>\n",
       "    <tr>\n",
       "      <th>dist</th>\n",
       "      <td>188786.0</td>\n",
       "      <td>164.686147</td>\n",
       "      <td>121.408012</td>\n",
       "      <td>1.0000</td>\n",
       "      <td>36.00000</td>\n",
       "      <td>172.00000</td>\n",
       "      <td>256.000000</td>\n",
       "      <td>573.00</td>\n",
       "    </tr>\n",
       "    <tr>\n",
       "      <th>spin_rate</th>\n",
       "      <td>701269.0</td>\n",
       "      <td>2219.479321</td>\n",
       "      <td>309.266169</td>\n",
       "      <td>413.0000</td>\n",
       "      <td>2076.00000</td>\n",
       "      <td>2242.00000</td>\n",
       "      <td>2403.000000</td>\n",
       "      <td>3680.00</td>\n",
       "    </tr>\n",
       "    <tr>\n",
       "      <th>launch_angle</th>\n",
       "      <td>202678.0</td>\n",
       "      <td>15.889613</td>\n",
       "      <td>29.138029</td>\n",
       "      <td>-87.1272</td>\n",
       "      <td>-3.81675</td>\n",
       "      <td>17.25705</td>\n",
       "      <td>36.124975</td>\n",
       "      <td>89.85</td>\n",
       "    </tr>\n",
       "    <tr>\n",
       "      <th>zone</th>\n",
       "      <td>715562.0</td>\n",
       "      <td>9.109047</td>\n",
       "      <td>4.210689</td>\n",
       "      <td>1.0000</td>\n",
       "      <td>5.00000</td>\n",
       "      <td>11.00000</td>\n",
       "      <td>13.000000</td>\n",
       "      <td>14.00</td>\n",
       "    </tr>\n",
       "  </tbody>\n",
       "</table>\n",
       "</div>"
      ],
      "text/plain": [
       "                 count           mean           std          min  \\\n",
       "player_id     721436.0  535093.470836  75171.533840  112526.0000   \n",
       "mph           715715.0      88.637119      6.020190      36.4000   \n",
       "ev_mph        202658.0      81.504538     16.416798       3.4000   \n",
       "dist          188786.0     164.686147    121.408012       1.0000   \n",
       "spin_rate     701269.0    2219.479321    309.266169     413.0000   \n",
       "launch_angle  202678.0      15.889613     29.138029     -87.1272   \n",
       "zone          715562.0       9.109047      4.210689       1.0000   \n",
       "\n",
       "                       25%           50%            75%        max  \n",
       "player_id     475479.00000  543272.00000  596001.000000  664701.00  \n",
       "mph               84.50000      90.00000      93.300000     104.20  \n",
       "ev_mph            71.80000      82.80000      94.200000     129.80  \n",
       "dist              36.00000     172.00000     256.000000     573.00  \n",
       "spin_rate       2076.00000    2242.00000    2403.000000    3680.00  \n",
       "launch_angle      -3.81675      17.25705      36.124975      89.85  \n",
       "zone               5.00000      11.00000      13.000000      14.00  "
      ]
     },
     "execution_count": 8,
     "metadata": {},
     "output_type": "execute_result"
    }
   ],
   "source": [
    "df.describe().T"
   ]
  },
  {
   "cell_type": "code",
   "execution_count": 9,
   "metadata": {
    "scrolled": true
   },
   "outputs": [
    {
     "name": "stdout",
     "output_type": "stream",
     "text": [
      "<class 'pandas.core.frame.DataFrame'>\n",
      "Index: 721436 entries, 434378-1 to 621056-5\n",
      "Data columns (total 16 columns):\n",
      "player_id        721436 non-null int64\n",
      "pitch            715711 non-null object\n",
      "mph              715715 non-null float64\n",
      "ev_mph           202658 non-null float64\n",
      "pitcher          721436 non-null object\n",
      "batter           721436 non-null object\n",
      "dist             188786 non-null float64\n",
      "spin_rate        701269 non-null float64\n",
      "launch_angle     202678 non-null float64\n",
      "perceived_vel    0 non-null object\n",
      "zone             715562 non-null float64\n",
      "game_date        721436 non-null object\n",
      "ab_count         721436 non-null object\n",
      "inning           721436 non-null object\n",
      "pitch_result     721436 non-null object\n",
      "ab_result        184869 non-null object\n",
      "dtypes: float64(6), int64(1), object(9)\n",
      "memory usage: 93.6+ MB\n"
     ]
    }
   ],
   "source": [
    "df.info()"
   ]
  },
  {
   "cell_type": "code",
   "execution_count": 10,
   "metadata": {},
   "outputs": [],
   "source": [
    "df.drop('perceived_vel', axis=1, inplace=True)"
   ]
  },
  {
   "cell_type": "markdown",
   "metadata": {},
   "source": [
    "### Null-handling"
   ]
  },
  {
   "cell_type": "markdown",
   "metadata": {},
   "source": [
    "** import missing no package to graph nulls. msno.bar() **"
   ]
  },
  {
   "cell_type": "code",
   "execution_count": 11,
   "metadata": {},
   "outputs": [
    {
     "data": {
      "image/png": "[encoded data removed]",
      "text/plain": [
       "<matplotlib.figure.Figure at 0x7f77a08a0a20>"
      ]
     },
     "metadata": {},
     "output_type": "display_data"
    }
   ],
   "source": [
    "msno.bar(df)"
   ]
  },
  {
   "cell_type": "code",
   "execution_count": 12,
   "metadata": {},
   "outputs": [],
   "source": [
    "df_nulls = df[df.ab_result.isnull()]"
   ]
  },
  {
   "cell_type": "code",
   "execution_count": 13,
   "metadata": {},
   "outputs": [
    {
     "data": {
      "text/plain": [
       "array([None], dtype=object)"
      ]
     },
     "execution_count": 13,
     "metadata": {},
     "output_type": "execute_result"
    }
   ],
   "source": [
    "df_nulls.ab_result.unique()"
   ]
  },
  {
   "cell_type": "markdown",
   "metadata": {},
   "source": [
    "** Defining meaning of null values for fields with nulls **"
   ]
  },
  {
   "cell_type": "markdown",
   "metadata": {},
   "source": [
    "|   Fields   |   Null Meaning  |   Data Type   |\n",
    "| -----------|:---------------:|--------------:|\n",
    "| pitch | unknown | Object |\n",
    "| mph | unknown | Float |\n",
    "| ev_mph | ball not hit | Float |\n",
    "| dist | ball not hit | Integer |\n",
    "| spin_rate | unknown | Integer |\n",
    "| launch_angle | ball not hit | Float |\n",
    "| zone | unknown | Object |\n",
    "| ab_result | pitch did not end ab | Object | "
   ]
  },
  {
   "cell_type": "markdown",
   "metadata": {},
   "source": [
    "** For `pitch`, nulls mean the pitch type is unknown and there is an existing category for that **"
   ]
  },
  {
   "cell_type": "code",
   "execution_count": 14,
   "metadata": {},
   "outputs": [],
   "source": [
    "df.pitch.replace(to_replace=np.nan, value='UN', inplace=True)"
   ]
  },
  {
   "cell_type": "code",
   "execution_count": 15,
   "metadata": {},
   "outputs": [
    {
     "data": {
      "text/plain": [
       "array(['FF', 'CH', 'SL', 'CU', 'UN', 'FC', 'FS', 'FT', 'PO', 'KC', 'EP',\n",
       "       'KN', 'AB', 'SI', 'SC', 'FO', 'IN'], dtype=object)"
      ]
     },
     "execution_count": 15,
     "metadata": {},
     "output_type": "execute_result"
    }
   ],
   "source": [
    "df.pitch.unique()"
   ]
  },
  {
   "cell_type": "markdown",
   "metadata": {},
   "source": [
    "**For `mph`, nulls mean the statcast device was not able to pick up and record the speed of the pitch. For now we will use the average mph to try and minimize the effect on our outcome.**"
   ]
  },
  {
   "cell_type": "code",
   "execution_count": 16,
   "metadata": {},
   "outputs": [],
   "source": [
    "df.mph.replace(to_replace=np.nan, value=np.mean(df.mph), inplace=True)"
   ]
  },
  {
   "cell_type": "code",
   "execution_count": 17,
   "metadata": {},
   "outputs": [
    {
     "data": {
      "text/plain": [
       "array([False], dtype=object)"
      ]
     },
     "execution_count": 17,
     "metadata": {},
     "output_type": "execute_result"
    }
   ],
   "source": [
    "df.mph.isnull().unique()"
   ]
  },
  {
   "cell_type": "markdown",
   "metadata": {},
   "source": [
    "**For `ev_mph`, nulls mean that the ball was not hit in play. For this case I will replace `nulls` with `0`.**"
   ]
  },
  {
   "cell_type": "code",
   "execution_count": 18,
   "metadata": {},
   "outputs": [],
   "source": [
    "df.ev_mph.replace(to_replace=np.nan, value=0, inplace=True)"
   ]
  },
  {
   "cell_type": "code",
   "execution_count": 19,
   "metadata": {},
   "outputs": [
    {
     "data": {
      "text/plain": [
       "array([False], dtype=object)"
      ]
     },
     "execution_count": 19,
     "metadata": {},
     "output_type": "execute_result"
    }
   ],
   "source": [
    "df.ev_mph.isnull().unique()"
   ]
  },
  {
   "cell_type": "markdown",
   "metadata": {},
   "source": [
    "**For `dist`, nulls mean that the ball was not hit in play. For this case I will replace `nulls` with `0`. As a precaution, I confirmed that no balls hit in play were hit 0 feet.**"
   ]
  },
  {
   "cell_type": "code",
   "execution_count": 20,
   "metadata": {},
   "outputs": [],
   "source": [
    "df.dist.replace(to_replace=np.nan, value=0, inplace=True)"
   ]
  },
  {
   "cell_type": "code",
   "execution_count": 21,
   "metadata": {},
   "outputs": [
    {
     "data": {
      "text/plain": [
       "array([False], dtype=object)"
      ]
     },
     "execution_count": 21,
     "metadata": {},
     "output_type": "execute_result"
    }
   ],
   "source": [
    "df.dist.isnull().unique()"
   ]
  },
  {
   "cell_type": "markdown",
   "metadata": {},
   "source": [
    "**For `spin_rate`, nulls mean the statcast device was not able to pick up and record the speed of the pitch. For now we will use the average spin rate to try and minimize the effect on our outcome.**"
   ]
  },
  {
   "cell_type": "code",
   "execution_count": 22,
   "metadata": {},
   "outputs": [],
   "source": [
    "df.spin_rate.replace(to_replace=np.nan, value=np.mean(df.mph), inplace=True)"
   ]
  },
  {
   "cell_type": "code",
   "execution_count": 23,
   "metadata": {},
   "outputs": [
    {
     "data": {
      "text/plain": [
       "array([False], dtype=object)"
      ]
     },
     "execution_count": 23,
     "metadata": {},
     "output_type": "execute_result"
    }
   ],
   "source": [
    "df.spin_rate.isnull().unique()"
   ]
  },
  {
   "cell_type": "markdown",
   "metadata": {},
   "source": [
    "**For `launch_angle`, nulls mean that the ball was not hit in play. For this case I will replace `nulls` with `0`. Those records won't be included in the modeling for hit/no hit because the pitch was not hit into play anyway.**"
   ]
  },
  {
   "cell_type": "code",
   "execution_count": 24,
   "metadata": {},
   "outputs": [],
   "source": [
    "df.launch_angle.replace(to_replace=np.nan, value=0, inplace=True)"
   ]
  },
  {
   "cell_type": "code",
   "execution_count": 25,
   "metadata": {},
   "outputs": [
    {
     "data": {
      "text/plain": [
       "array([False], dtype=object)"
      ]
     },
     "execution_count": 25,
     "metadata": {},
     "output_type": "execute_result"
    }
   ],
   "source": [
    "df.launch_angle.isnull().unique()"
   ]
  },
  {
   "cell_type": "markdown",
   "metadata": {},
   "source": [
    "**For `zone`, nulls mean the statcast device was not able to pick up and record which part of the strike zone the pitch crossed. Since this will later be converted to type `object`, I will save these values as the string `unknown`.**"
   ]
  },
  {
   "cell_type": "code",
   "execution_count": 26,
   "metadata": {},
   "outputs": [],
   "source": [
    "df.zone.replace(to_replace=np.nan, value='unknown', inplace=True)"
   ]
  },
  {
   "cell_type": "code",
   "execution_count": 27,
   "metadata": {},
   "outputs": [
    {
     "data": {
      "text/plain": [
       "array([11.0, 1.0, 14.0, 13.0, 12.0, 2.0, 6.0, 5.0, 7.0, 8.0, 3.0, 4.0, 9.0,\n",
       "       'unknown'], dtype=object)"
      ]
     },
     "execution_count": 27,
     "metadata": {},
     "output_type": "execute_result"
    }
   ],
   "source": [
    "df.zone.unique()"
   ]
  },
  {
   "cell_type": "markdown",
   "metadata": {},
   "source": [
    "**For `ab_result`, nulls mean that the ball was not hit in play. For this case I will replace `nulls` with `ball not hit in play`. **"
   ]
  },
  {
   "cell_type": "code",
   "execution_count": 28,
   "metadata": {},
   "outputs": [],
   "source": [
    "df.ab_result.replace(to_replace=np.nan, value='ball not hit in play', inplace=True)"
   ]
  },
  {
   "cell_type": "code",
   "execution_count": 29,
   "metadata": {},
   "outputs": [
    {
     "data": {
      "text/plain": [
       "array([False], dtype=object)"
      ]
     },
     "execution_count": 29,
     "metadata": {},
     "output_type": "execute_result"
    }
   ],
   "source": [
    "df.ab_result.isnull().unique()"
   ]
  },
  {
   "cell_type": "markdown",
   "metadata": {},
   "source": [
    "### Data Type Clean-up"
   ]
  },
  {
   "cell_type": "markdown",
   "metadata": {},
   "source": [
    "** Converting `dist` and `spin_rate` to type `int`**"
   ]
  },
  {
   "cell_type": "code",
   "execution_count": 30,
   "metadata": {},
   "outputs": [],
   "source": [
    "df[['dist', 'spin_rate']] = df[['dist', 'spin_rate']].astype('int')"
   ]
  },
  {
   "cell_type": "markdown",
   "metadata": {},
   "source": [
    "** Converting `zone` to type `str` while removing the decimal place from zone values where pertinent **"
   ]
  },
  {
   "cell_type": "code",
   "execution_count": 31,
   "metadata": {},
   "outputs": [],
   "source": [
    "df[['zone']] = df[['zone']].astype('str')"
   ]
  },
  {
   "cell_type": "code",
   "execution_count": 32,
   "metadata": {},
   "outputs": [
    {
     "data": {
      "text/plain": [
       "array(['11.0', '1.0', '14.0', '13.0', '12.0', '2.0', '6.0', '5.0', '7.0',\n",
       "       '8.0', '3.0', '4.0', '9.0', 'unknown'], dtype=object)"
      ]
     },
     "execution_count": 32,
     "metadata": {},
     "output_type": "execute_result"
    }
   ],
   "source": [
    "df.zone.unique()"
   ]
  },
  {
   "cell_type": "markdown",
   "metadata": {},
   "source": [
    "### Mapping in data for pitch type"
   ]
  },
  {
   "cell_type": "code",
   "execution_count": 33,
   "metadata": {
    "scrolled": true
   },
   "outputs": [
    {
     "name": "stdout",
     "output_type": "stream",
     "text": [
      "/home/jovyan\n"
     ]
    }
   ],
   "source": [
    "cd .."
   ]
  },
  {
   "cell_type": "code",
   "execution_count": 34,
   "metadata": {
    "scrolled": true
   },
   "outputs": [],
   "source": [
    "pitch_type_data = pd.read_csv('data/pitch_types.csv')"
   ]
  },
  {
   "cell_type": "code",
   "execution_count": 35,
   "metadata": {},
   "outputs": [
    {
     "data": {
      "text/html": [
       "<div>\n",
       "<table border=\"1\" class=\"dataframe\">\n",
       "  <thead>\n",
       "    <tr style=\"text-align: right;\">\n",
       "      <th></th>\n",
       "      <th>full_pitch</th>\n",
       "      <th>pitch</th>\n",
       "      <th>pitch_rollup</th>\n",
       "    </tr>\n",
       "  </thead>\n",
       "  <tbody>\n",
       "    <tr>\n",
       "      <th>0</th>\n",
       "      <td>Four-Seam Fastball</td>\n",
       "      <td>FF</td>\n",
       "      <td>fastball</td>\n",
       "    </tr>\n",
       "    <tr>\n",
       "      <th>1</th>\n",
       "      <td>Two-Seam Fastball</td>\n",
       "      <td>FT</td>\n",
       "      <td>fastball</td>\n",
       "    </tr>\n",
       "    <tr>\n",
       "      <th>2</th>\n",
       "      <td>Fastball (cutter)</td>\n",
       "      <td>FC</td>\n",
       "      <td>fastball</td>\n",
       "    </tr>\n",
       "    <tr>\n",
       "      <th>3</th>\n",
       "      <td>Fastball (sinker/split-fingered)</td>\n",
       "      <td>FS</td>\n",
       "      <td>fastball</td>\n",
       "    </tr>\n",
       "    <tr>\n",
       "      <th>4</th>\n",
       "      <td>Fastball (sinker/split-fingered)</td>\n",
       "      <td>SI</td>\n",
       "      <td>fastball</td>\n",
       "    </tr>\n",
       "  </tbody>\n",
       "</table>\n",
       "</div>"
      ],
      "text/plain": [
       "                         full_pitch pitch pitch_rollup\n",
       "0                Four-Seam Fastball    FF     fastball\n",
       "1                 Two-Seam Fastball    FT     fastball\n",
       "2                 Fastball (cutter)    FC     fastball\n",
       "3  Fastball (sinker/split-fingered)    FS     fastball\n",
       "4  Fastball (sinker/split-fingered)    SI     fastball"
      ]
     },
     "execution_count": 35,
     "metadata": {},
     "output_type": "execute_result"
    }
   ],
   "source": [
    "pitch_type_data.head()"
   ]
  },
  {
   "cell_type": "code",
   "execution_count": 36,
   "metadata": {},
   "outputs": [],
   "source": [
    "df_merged = df.merge(pitch_type_data, on='pitch', how='left').set_index(df.index)"
   ]
  },
  {
   "cell_type": "markdown",
   "metadata": {},
   "source": [
    "### Creating field for flag `hit` or `no_hit`"
   ]
  },
  {
   "cell_type": "code",
   "execution_count": 37,
   "metadata": {
    "scrolled": true
   },
   "outputs": [
    {
     "data": {
      "text/html": [
       "<div>\n",
       "<table border=\"1\" class=\"dataframe\">\n",
       "  <thead>\n",
       "    <tr style=\"text-align: right;\">\n",
       "      <th></th>\n",
       "      <th>player_id</th>\n",
       "      <th>pitch</th>\n",
       "      <th>mph</th>\n",
       "      <th>ev_mph</th>\n",
       "      <th>pitcher</th>\n",
       "      <th>batter</th>\n",
       "      <th>dist</th>\n",
       "      <th>spin_rate</th>\n",
       "      <th>launch_angle</th>\n",
       "      <th>zone</th>\n",
       "      <th>game_date</th>\n",
       "      <th>ab_count</th>\n",
       "      <th>inning</th>\n",
       "      <th>pitch_result</th>\n",
       "      <th>ab_result</th>\n",
       "      <th>full_pitch</th>\n",
       "      <th>pitch_rollup</th>\n",
       "    </tr>\n",
       "    <tr>\n",
       "      <th>unique_id</th>\n",
       "      <th></th>\n",
       "      <th></th>\n",
       "      <th></th>\n",
       "      <th></th>\n",
       "      <th></th>\n",
       "      <th></th>\n",
       "      <th></th>\n",
       "      <th></th>\n",
       "      <th></th>\n",
       "      <th></th>\n",
       "      <th></th>\n",
       "      <th></th>\n",
       "      <th></th>\n",
       "      <th></th>\n",
       "      <th></th>\n",
       "      <th></th>\n",
       "      <th></th>\n",
       "    </tr>\n",
       "  </thead>\n",
       "  <tbody>\n",
       "    <tr>\n",
       "      <th>434378-1</th>\n",
       "      <td>434378</td>\n",
       "      <td>FF</td>\n",
       "      <td>97.2</td>\n",
       "      <td>0.0</td>\n",
       "      <td>Justin Verlander</td>\n",
       "      <td>Rougned Odor</td>\n",
       "      <td>0</td>\n",
       "      <td>2526</td>\n",
       "      <td>0.0000</td>\n",
       "      <td>11.0</td>\n",
       "      <td>2017-09-27</td>\n",
       "      <td>2-2</td>\n",
       "      <td>Bot 6</td>\n",
       "      <td>swinging_strike</td>\n",
       "      <td>Rougned Odor strikes out swinging.</td>\n",
       "      <td>Four-Seam Fastball</td>\n",
       "      <td>fastball</td>\n",
       "    </tr>\n",
       "    <tr>\n",
       "      <th>434378-2</th>\n",
       "      <td>434378</td>\n",
       "      <td>FF</td>\n",
       "      <td>96.5</td>\n",
       "      <td>78.9</td>\n",
       "      <td>Justin Verlander</td>\n",
       "      <td>Rougned Odor</td>\n",
       "      <td>195</td>\n",
       "      <td>2581</td>\n",
       "      <td>23.5971</td>\n",
       "      <td>1.0</td>\n",
       "      <td>2017-09-27</td>\n",
       "      <td>2-2</td>\n",
       "      <td>Bot 6</td>\n",
       "      <td>foul</td>\n",
       "      <td>ball not hit in play</td>\n",
       "      <td>Four-Seam Fastball</td>\n",
       "      <td>fastball</td>\n",
       "    </tr>\n",
       "  </tbody>\n",
       "</table>\n",
       "</div>"
      ],
      "text/plain": [
       "           player_id pitch   mph  ev_mph           pitcher        batter  \\\n",
       "unique_id                                                                  \n",
       "434378-1      434378    FF  97.2     0.0  Justin Verlander  Rougned Odor   \n",
       "434378-2      434378    FF  96.5    78.9  Justin Verlander  Rougned Odor   \n",
       "\n",
       "           dist  spin_rate  launch_angle  zone   game_date ab_count inning  \\\n",
       "unique_id                                                                    \n",
       "434378-1      0       2526        0.0000  11.0  2017-09-27      2-2  Bot 6   \n",
       "434378-2    195       2581       23.5971   1.0  2017-09-27      2-2  Bot 6   \n",
       "\n",
       "              pitch_result                             ab_result  \\\n",
       "unique_id                                                          \n",
       "434378-1   swinging_strike  Rougned Odor strikes out swinging.     \n",
       "434378-2              foul                  ball not hit in play   \n",
       "\n",
       "                   full_pitch pitch_rollup  \n",
       "unique_id                                   \n",
       "434378-1   Four-Seam Fastball     fastball  \n",
       "434378-2   Four-Seam Fastball     fastball  "
      ]
     },
     "execution_count": 37,
     "metadata": {},
     "output_type": "execute_result"
    }
   ],
   "source": [
    "df_merged.head(2)"
   ]
  },
  {
   "cell_type": "code",
   "execution_count": 38,
   "metadata": {},
   "outputs": [
    {
     "data": {
      "text/plain": [
       "array(['swinging_strike', 'foul', 'ball', 'hit_into_play', 'called_strike',\n",
       "       'hit_into_play_score', 'hit_into_play_no_out',\n",
       "       'swinging_strike_blocked', 'foul_tip', 'blocked_ball',\n",
       "       'hit_by_pitch', 'automatic_ball', 'foul_bunt', 'missed_bunt',\n",
       "       'pitchout'], dtype=object)"
      ]
     },
     "execution_count": 38,
     "metadata": {},
     "output_type": "execute_result"
    }
   ],
   "source": [
    "df_merged.pitch_result.unique()"
   ]
  },
  {
   "cell_type": "code",
   "execution_count": 39,
   "metadata": {},
   "outputs": [],
   "source": [
    "pd.set_option('display.max_colwidth', -1)"
   ]
  },
  {
   "cell_type": "code",
   "execution_count": 40,
   "metadata": {},
   "outputs": [],
   "source": [
    "df_merged['hit_flag'] = df_merged['ab_result'].map(lambda x: re.search('singles|doubles|triples|homers', x) != None)"
   ]
  },
  {
   "cell_type": "code",
   "execution_count": 41,
   "metadata": {},
   "outputs": [
    {
     "data": {
      "text/html": [
       "<div>\n",
       "<table border=\"1\" class=\"dataframe\">\n",
       "  <thead>\n",
       "    <tr style=\"text-align: right;\">\n",
       "      <th></th>\n",
       "      <th>player_id</th>\n",
       "      <th>pitch</th>\n",
       "      <th>mph</th>\n",
       "      <th>ev_mph</th>\n",
       "      <th>pitcher</th>\n",
       "      <th>batter</th>\n",
       "      <th>dist</th>\n",
       "      <th>spin_rate</th>\n",
       "      <th>launch_angle</th>\n",
       "      <th>zone</th>\n",
       "      <th>game_date</th>\n",
       "      <th>ab_count</th>\n",
       "      <th>inning</th>\n",
       "      <th>pitch_result</th>\n",
       "      <th>ab_result</th>\n",
       "      <th>full_pitch</th>\n",
       "      <th>pitch_rollup</th>\n",
       "      <th>hit_flag</th>\n",
       "    </tr>\n",
       "    <tr>\n",
       "      <th>unique_id</th>\n",
       "      <th></th>\n",
       "      <th></th>\n",
       "      <th></th>\n",
       "      <th></th>\n",
       "      <th></th>\n",
       "      <th></th>\n",
       "      <th></th>\n",
       "      <th></th>\n",
       "      <th></th>\n",
       "      <th></th>\n",
       "      <th></th>\n",
       "      <th></th>\n",
       "      <th></th>\n",
       "      <th></th>\n",
       "      <th></th>\n",
       "      <th></th>\n",
       "      <th></th>\n",
       "      <th></th>\n",
       "    </tr>\n",
       "  </thead>\n",
       "  <tbody>\n",
       "    <tr>\n",
       "      <th>519008-281</th>\n",
       "      <td>519008</td>\n",
       "      <td>SI</td>\n",
       "      <td>89.5</td>\n",
       "      <td>97.4</td>\n",
       "      <td>T.J. McFarland</td>\n",
       "      <td>Denard Span</td>\n",
       "      <td>339</td>\n",
       "      <td>1940</td>\n",
       "      <td>18.500</td>\n",
       "      <td>14.0</td>\n",
       "      <td>2017-08-05</td>\n",
       "      <td>0-1</td>\n",
       "      <td>Bot 10</td>\n",
       "      <td>hit_into_play_no_out</td>\n",
       "      <td>Denard Span doubles (24) on a line drive to right fielder J.   Martinez.</td>\n",
       "      <td>Fastball (sinker/split-fingered)</td>\n",
       "      <td>fastball</td>\n",
       "      <td>True</td>\n",
       "    </tr>\n",
       "    <tr>\n",
       "      <th>453284-832</th>\n",
       "      <td>453284</td>\n",
       "      <td>FF</td>\n",
       "      <td>95.5</td>\n",
       "      <td>97.2</td>\n",
       "      <td>Blake Parker</td>\n",
       "      <td>Kyle Seager</td>\n",
       "      <td>67</td>\n",
       "      <td>2232</td>\n",
       "      <td>1.941</td>\n",
       "      <td>4.0</td>\n",
       "      <td>2017-05-03</td>\n",
       "      <td>1-1</td>\n",
       "      <td>Bot 8</td>\n",
       "      <td>hit_into_play_no_out</td>\n",
       "      <td>Kyle Seager singles on a ground ball to center fielder Mike Trout.</td>\n",
       "      <td>Four-Seam Fastball</td>\n",
       "      <td>fastball</td>\n",
       "      <td>True</td>\n",
       "    </tr>\n",
       "    <tr>\n",
       "      <th>476451-2620</th>\n",
       "      <td>476451</td>\n",
       "      <td>FF</td>\n",
       "      <td>92.0</td>\n",
       "      <td>73.6</td>\n",
       "      <td>Jeremy Hellickson</td>\n",
       "      <td>Jose Peraza</td>\n",
       "      <td>182</td>\n",
       "      <td>2033</td>\n",
       "      <td>17.845</td>\n",
       "      <td>1.0</td>\n",
       "      <td>2017-04-03</td>\n",
       "      <td>0-2</td>\n",
       "      <td>Bot 1</td>\n",
       "      <td>hit_into_play_no_out</td>\n",
       "      <td>Jose Peraza singles on a line drive to right fielder Michael Saunders.</td>\n",
       "      <td>Four-Seam Fastball</td>\n",
       "      <td>fastball</td>\n",
       "      <td>True</td>\n",
       "    </tr>\n",
       "  </tbody>\n",
       "</table>\n",
       "</div>"
      ],
      "text/plain": [
       "             player_id pitch   mph  ev_mph            pitcher       batter  \\\n",
       "unique_id                                                                    \n",
       "519008-281   519008     SI    89.5  97.4    T.J. McFarland     Denard Span   \n",
       "453284-832   453284     FF    95.5  97.2    Blake Parker       Kyle Seager   \n",
       "476451-2620  476451     FF    92.0  73.6    Jeremy Hellickson  Jose Peraza   \n",
       "\n",
       "             dist  spin_rate  launch_angle  zone   game_date ab_count  inning  \\\n",
       "unique_id                                                                       \n",
       "519008-281   339   1940       18.500        14.0  2017-08-05  0-1      Bot 10   \n",
       "453284-832   67    2232       1.941         4.0   2017-05-03  1-1      Bot 8    \n",
       "476451-2620  182   2033       17.845        1.0   2017-04-03  0-2      Bot 1    \n",
       "\n",
       "                     pitch_result  \\\n",
       "unique_id                           \n",
       "519008-281   hit_into_play_no_out   \n",
       "453284-832   hit_into_play_no_out   \n",
       "476451-2620  hit_into_play_no_out   \n",
       "\n",
       "                                                                              ab_result  \\\n",
       "unique_id                                                                                 \n",
       "519008-281   Denard Span doubles (24) on a line drive to right fielder J.   Martinez.     \n",
       "453284-832   Kyle Seager singles on a ground ball to center fielder Mike Trout.           \n",
       "476451-2620  Jose Peraza singles on a line drive to right fielder Michael Saunders.       \n",
       "\n",
       "                                   full_pitch pitch_rollup hit_flag  \n",
       "unique_id                                                            \n",
       "519008-281   Fastball (sinker/split-fingered)  fastball     True     \n",
       "453284-832   Four-Seam Fastball                fastball     True     \n",
       "476451-2620  Four-Seam Fastball                fastball     True     "
      ]
     },
     "execution_count": 41,
     "metadata": {},
     "output_type": "execute_result"
    }
   ],
   "source": [
    "df_merged[df_merged['pitch_result'] == 'hit_into_play_no_out'].sample(3)"
   ]
  },
  {
   "cell_type": "markdown",
   "metadata": {},
   "source": [
    "### Saving final dataframes for each classification model, pitch ballistics and hit ballistics"
   ]
  },
  {
   "cell_type": "code",
   "execution_count": 42,
   "metadata": {},
   "outputs": [],
   "source": [
    "df_master = df_merged.copy()"
   ]
  },
  {
   "cell_type": "code",
   "execution_count": 43,
   "metadata": {},
   "outputs": [],
   "source": [
    "# df_pitch_init = df_merged.copy()"
   ]
  },
  {
   "cell_type": "code",
   "execution_count": 44,
   "metadata": {},
   "outputs": [],
   "source": [
    "# df_pitch_init.columns"
   ]
  },
  {
   "cell_type": "code",
   "execution_count": 45,
   "metadata": {},
   "outputs": [],
   "source": [
    "# df_pitch_clf = df_pitch_init.drop(['ev_mph', 'dist', 'launch_angle'], axis=1)"
   ]
  },
  {
   "cell_type": "code",
   "execution_count": 46,
   "metadata": {},
   "outputs": [],
   "source": [
    "# df_pitch_clf.shape"
   ]
  },
  {
   "cell_type": "code",
   "execution_count": 47,
   "metadata": {},
   "outputs": [],
   "source": [
    "df_in_play_init = df_merged.copy()"
   ]
  },
  {
   "cell_type": "code",
   "execution_count": 48,
   "metadata": {
    "scrolled": true
   },
   "outputs": [
    {
     "data": {
      "text/plain": [
       "array(['swinging_strike', 'foul', 'ball', 'hit_into_play', 'called_strike',\n",
       "       'hit_into_play_score', 'hit_into_play_no_out',\n",
       "       'swinging_strike_blocked', 'foul_tip', 'blocked_ball',\n",
       "       'hit_by_pitch', 'automatic_ball', 'foul_bunt', 'missed_bunt',\n",
       "       'pitchout'], dtype=object)"
      ]
     },
     "execution_count": 48,
     "metadata": {},
     "output_type": "execute_result"
    }
   ],
   "source": [
    "df_in_play_init.pitch_result.unique()"
   ]
  },
  {
   "cell_type": "code",
   "execution_count": 49,
   "metadata": {
    "scrolled": true
   },
   "outputs": [],
   "source": [
    "df_in_play = df_in_play_init[(df_in_play_init['pitch_result'] == 'hit_into_play') | \n",
    "                             (df_in_play_init['pitch_result'] == 'hit_into_play_score') |\n",
    "                             (df_in_play_init['pitch_result'] == 'hit_into_play_no_out')]"
   ]
  },
  {
   "cell_type": "code",
   "execution_count": 50,
   "metadata": {},
   "outputs": [
    {
     "data": {
      "text/plain": [
       "array(['hit_into_play', 'hit_into_play_score', 'hit_into_play_no_out'], dtype=object)"
      ]
     },
     "execution_count": 50,
     "metadata": {},
     "output_type": "execute_result"
    }
   ],
   "source": [
    "df_in_play['pitch_result'].unique()"
   ]
  },
  {
   "cell_type": "code",
   "execution_count": 51,
   "metadata": {},
   "outputs": [
    {
     "data": {
      "text/plain": [
       "(127052, 18)"
      ]
     },
     "execution_count": 51,
     "metadata": {},
     "output_type": "execute_result"
    }
   ],
   "source": [
    "df_in_play.shape"
   ]
  },
  {
   "cell_type": "markdown",
   "metadata": {},
   "source": [
    "### Write DFs for modeling `to_pickle`"
   ]
  },
  {
   "cell_type": "code",
   "execution_count": 53,
   "metadata": {},
   "outputs": [],
   "source": [
    "df_in_play.to_pickle('data/in_play.p')"
   ]
  },
  {
   "cell_type": "code",
   "execution_count": null,
   "metadata": {},
   "outputs": [],
   "source": []
  }
 ],
 "metadata": {
  "kernelspec": {
   "display_name": "Python 3",
   "language": "python",
   "name": "python3"
  },
  "language_info": {
   "codemirror_mode": {
    "name": "ipython",
    "version": 3
   },
   "file_extension": ".py",
   "mimetype": "text/x-python",
   "name": "python",
   "nbconvert_exporter": "python",
   "pygments_lexer": "ipython3",
   "version": "3.6.3"
  }
 },
 "nbformat": 4,
 "nbformat_minor": 2
}
