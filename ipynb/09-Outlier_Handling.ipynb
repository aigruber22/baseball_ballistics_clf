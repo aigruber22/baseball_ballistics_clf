{
 "cells": [
  {
   "cell_type": "markdown",
   "metadata": {},
   "source": [
    "## Project Description"
   ]
  },
  {
   "cell_type": "markdown",
   "metadata": {},
   "source": [
    "## Notebook Description"
   ]
  },
  {
   "cell_type": "markdown",
   "metadata": {},
   "source": [
    "### Initialize packages and read in pickled data"
   ]
  },
  {
   "cell_type": "code",
   "execution_count": 1,
   "metadata": {
    "scrolled": false
   },
   "outputs": [],
   "source": [
    "% run __init__.py"
   ]
  },
  {
   "cell_type": "code",
   "execution_count": 2,
   "metadata": {},
   "outputs": [
    {
     "name": "stdout",
     "output_type": "stream",
     "text": [
      "/home/jovyan\n"
     ]
    }
   ],
   "source": [
    "cd .."
   ]
  },
  {
   "cell_type": "code",
   "execution_count": 10,
   "metadata": {},
   "outputs": [],
   "source": [
    "df_in_play = pd.read_pickle('data/in_play.p')"
   ]
  },
  {
   "cell_type": "code",
   "execution_count": 11,
   "metadata": {},
   "outputs": [
    {
     "data": {
      "text/plain": [
       "(127052, 18)"
      ]
     },
     "execution_count": 11,
     "metadata": {},
     "output_type": "execute_result"
    }
   ],
   "source": [
    "df_in_play.shape"
   ]
  },
  {
   "cell_type": "code",
   "execution_count": 3,
   "metadata": {},
   "outputs": [],
   "source": [
    "df_model = pd.read_pickle('data/df_model.p')"
   ]
  },
  {
   "cell_type": "code",
   "execution_count": 4,
   "metadata": {
    "scrolled": true
   },
   "outputs": [
    {
     "data": {
      "text/plain": [
       "(127052, 88)"
      ]
     },
     "execution_count": 4,
     "metadata": {},
     "output_type": "execute_result"
    }
   ],
   "source": [
    "df_model.shape"
   ]
  },
  {
   "cell_type": "markdown",
   "metadata": {},
   "source": [
    "### Outlier Analysis"
   ]
  },
  {
   "cell_type": "code",
   "execution_count": 12,
   "metadata": {},
   "outputs": [],
   "source": [
    "df_in_play_stats = df_in_play.describe().T"
   ]
  },
  {
   "cell_type": "code",
   "execution_count": 13,
   "metadata": {},
   "outputs": [],
   "source": [
    "df_in_play_stats.drop(['player_id'], axis=0, inplace=True)"
   ]
  },
  {
   "cell_type": "code",
   "execution_count": 14,
   "metadata": {
    "scrolled": true
   },
   "outputs": [
    {
     "data": {
      "text/html": [
       "<div>\n",
       "<table border=\"1\" class=\"dataframe\">\n",
       "  <thead>\n",
       "    <tr style=\"text-align: right;\">\n",
       "      <th></th>\n",
       "      <th>count</th>\n",
       "      <th>mean</th>\n",
       "      <th>std</th>\n",
       "      <th>min</th>\n",
       "      <th>25%</th>\n",
       "      <th>50%</th>\n",
       "      <th>75%</th>\n",
       "      <th>max</th>\n",
       "    </tr>\n",
       "  </thead>\n",
       "  <tbody>\n",
       "    <tr>\n",
       "      <th>mph</th>\n",
       "      <td>127052.0</td>\n",
       "      <td>88.816898</td>\n",
       "      <td>5.825538</td>\n",
       "      <td>36.400</td>\n",
       "      <td>84.900</td>\n",
       "      <td>90.200</td>\n",
       "      <td>93.2000</td>\n",
       "      <td>103.20</td>\n",
       "    </tr>\n",
       "    <tr>\n",
       "      <th>ev_mph</th>\n",
       "      <td>127052.0</td>\n",
       "      <td>86.637634</td>\n",
       "      <td>15.153937</td>\n",
       "      <td>0.000</td>\n",
       "      <td>79.900</td>\n",
       "      <td>89.100</td>\n",
       "      <td>97.9000</td>\n",
       "      <td>122.20</td>\n",
       "    </tr>\n",
       "    <tr>\n",
       "      <th>dist</th>\n",
       "      <td>127052.0</td>\n",
       "      <td>153.049767</td>\n",
       "      <td>139.895645</td>\n",
       "      <td>0.000</td>\n",
       "      <td>9.000</td>\n",
       "      <td>130.000</td>\n",
       "      <td>283.0000</td>\n",
       "      <td>495.00</td>\n",
       "    </tr>\n",
       "    <tr>\n",
       "      <th>spin_rate</th>\n",
       "      <td>127052.0</td>\n",
       "      <td>2145.965487</td>\n",
       "      <td>438.706581</td>\n",
       "      <td>88.000</td>\n",
       "      <td>2039.000</td>\n",
       "      <td>2210.000</td>\n",
       "      <td>2373.0000</td>\n",
       "      <td>3666.00</td>\n",
       "    </tr>\n",
       "    <tr>\n",
       "      <th>launch_angle</th>\n",
       "      <td>127052.0</td>\n",
       "      <td>11.122158</td>\n",
       "      <td>27.557570</td>\n",
       "      <td>-84.987</td>\n",
       "      <td>-8.428</td>\n",
       "      <td>11.389</td>\n",
       "      <td>29.1635</td>\n",
       "      <td>89.85</td>\n",
       "    </tr>\n",
       "  </tbody>\n",
       "</table>\n",
       "</div>"
      ],
      "text/plain": [
       "                 count         mean         std     min       25%       50%  \\\n",
       "mph           127052.0    88.816898    5.825538  36.400    84.900    90.200   \n",
       "ev_mph        127052.0    86.637634   15.153937   0.000    79.900    89.100   \n",
       "dist          127052.0   153.049767  139.895645   0.000     9.000   130.000   \n",
       "spin_rate     127052.0  2145.965487  438.706581  88.000  2039.000  2210.000   \n",
       "launch_angle  127052.0    11.122158   27.557570 -84.987    -8.428    11.389   \n",
       "\n",
       "                    75%      max  \n",
       "mph             93.2000   103.20  \n",
       "ev_mph          97.9000   122.20  \n",
       "dist           283.0000   495.00  \n",
       "spin_rate     2373.0000  3666.00  \n",
       "launch_angle    29.1635    89.85  "
      ]
     },
     "execution_count": 14,
     "metadata": {},
     "output_type": "execute_result"
    }
   ],
   "source": [
    "df_in_play_stats"
   ]
  },
  {
   "cell_type": "code",
   "execution_count": 15,
   "metadata": {
    "scrolled": true
   },
   "outputs": [
    {
     "data": {
      "image/png": "[encoded data removed]",
      "text/plain": [
       "<matplotlib.figure.Figure at 0x7fd98cc94400>"
      ]
     },
     "metadata": {},
     "output_type": "display_data"
    }
   ],
   "source": [
    "fig = plt.figure(figsize=(20,8))\n",
    "\n",
    "for i, num_col in enumerate(df_in_play_stats.index):\n",
    "    fig.add_subplot(2,3,1+i)\n",
    "    sns.distplot(df_in_play[num_col])\n",
    "    \n",
    "    mean_value = df_in_play[num_col].mean()\n",
    "    plt.axvline(mean_value, c='red')\n",
    "    \n",
    "    median_value = df_in_play[num_col].median()\n",
    "    plt.axvline(median_value, c='black')"
   ]
  },
  {
   "cell_type": "code",
   "execution_count": 6,
   "metadata": {
    "scrolled": true
   },
   "outputs": [
    {
     "data": {
      "text/plain": [
       "88      2922\n",
       "2243     249\n",
       "2223     245\n",
       "2195     241\n",
       "2194     235\n",
       "2257     233\n",
       "2192     232\n",
       "2191     231\n",
       "2222     227\n",
       "2298     227\n",
       "2307     226\n",
       "2172     226\n",
       "2275     225\n",
       "2219     224\n",
       "2144     223\n",
       "2116     223\n",
       "2215     223\n",
       "2154     221\n",
       "2200     220\n",
       "2128     220\n",
       "2263     220\n",
       "2268     219\n",
       "2229     219\n",
       "2225     219\n",
       "2153     219\n",
       "2177     219\n",
       "2287     219\n",
       "2270     218\n",
       "2262     217\n",
       "2294     217\n",
       "        ... \n",
       "906        1\n",
       "3283       1\n",
       "3155       1\n",
       "3118       1\n",
       "943        1\n",
       "879        1\n",
       "815        1\n",
       "3080       1\n",
       "905        1\n",
       "3545       1\n",
       "3209       1\n",
       "3282       1\n",
       "3263       1\n",
       "3199       1\n",
       "3218       1\n",
       "860        1\n",
       "3026       1\n",
       "968        1\n",
       "3145       1\n",
       "787        1\n",
       "954        1\n",
       "3337       1\n",
       "3067       1\n",
       "3569       1\n",
       "1022       1\n",
       "681        1\n",
       "1008       1\n",
       "2993       1\n",
       "3353       1\n",
       "1058       1\n",
       "Name: spin_rate, dtype: int64"
      ]
     },
     "execution_count": 6,
     "metadata": {},
     "output_type": "execute_result"
    }
   ],
   "source": [
    "df_model['spin_rate'].value_counts()"
   ]
  },
  {
   "cell_type": "code",
   "execution_count": 8,
   "metadata": {
    "scrolled": true
   },
   "outputs": [
    {
     "data": {
      "text/plain": [
       "False    580\n",
       "True       1\n",
       "Name: hit_flag, dtype: int64"
      ]
     },
     "execution_count": 8,
     "metadata": {},
     "output_type": "execute_result"
    }
   ],
   "source": [
    "df_model[df_model['launch_angle'] == 39.2990]['hit_flag'].value_counts()"
   ]
  },
  {
   "cell_type": "code",
   "execution_count": 9,
   "metadata": {
    "scrolled": false
   },
   "outputs": [
    {
     "data": {
      "text/plain": [
       "-20.6990    5955\n",
       " 69.0000    3357\n",
       "-39.0000    1129\n",
       "-17.3000    1106\n",
       " 39.2990     581\n",
       "-36.0000     291\n",
       "-13.0000     159\n",
       " 14.6000     132\n",
       " 18.1990     128\n",
       "-21.0000     101\n",
       " 17.1000      96\n",
       " 30.1990      58\n",
       " 18.0000      57\n",
       " 39.0000      55\n",
       " 15.0000      48\n",
       " 32.0000      33\n",
       "-17.0000      32\n",
       " 30.0000      29\n",
       " 23.6990      24\n",
       " 36.0000      24\n",
       "-3.0000       18\n",
       " 17.0000      17\n",
       " 24.0000      17\n",
       " 67.0000      16\n",
       " 38.0000      15\n",
       "-62.0000      14\n",
       " 65.0000      13\n",
       " 31.0000      12\n",
       " 0.0000       12\n",
       " 60.0000      10\n",
       "            ... \n",
       " 55.4620       1\n",
       " 37.1690       1\n",
       " 3.2320        1\n",
       " 8.7050        1\n",
       "-2.3060        1\n",
       " 54.3130       1\n",
       "-16.6520       1\n",
       " 24.7200       1\n",
       "-11.1340       1\n",
       " 20.7240       1\n",
       " 56.3290       1\n",
       "-9.1060        1\n",
       " 45.3890       1\n",
       " 37.8061       1\n",
       " 39.1050       1\n",
       "-39.1450       1\n",
       "-34.2200       1\n",
       "-24.9490       1\n",
       " 11.8780       1\n",
       " 24.9260       1\n",
       "-30.7360       1\n",
       " 52.7290       1\n",
       "-8.5230        1\n",
       "-8.3820        1\n",
       " 7.5440        1\n",
       "-2.8870        1\n",
       " 80.5260       1\n",
       " 82.6040       1\n",
       " 2.9320        1\n",
       " 56.0000       1\n",
       "Name: launch_angle, dtype: int64"
      ]
     },
     "execution_count": 9,
     "metadata": {},
     "output_type": "execute_result"
    }
   ],
   "source": [
    "df_model['launch_angle'].value_counts()"
   ]
  },
  {
   "cell_type": "code",
   "execution_count": null,
   "metadata": {},
   "outputs": [],
   "source": []
  }
 ],
 "metadata": {
  "kernelspec": {
   "display_name": "Python 3",
   "language": "python",
   "name": "python3"
  },
  "language_info": {
   "codemirror_mode": {
    "name": "ipython",
    "version": 3
   },
   "file_extension": ".py",
   "mimetype": "text/x-python",
   "name": "python",
   "nbconvert_exporter": "python",
   "pygments_lexer": "ipython3",
   "version": "3.6.3"
  }
 },
 "nbformat": 4,
 "nbformat_minor": 2
}
