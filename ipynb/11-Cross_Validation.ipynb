{
 "cells": [
  {
   "cell_type": "markdown",
   "metadata": {},
   "source": [
    "## Project Description"
   ]
  },
  {
   "cell_type": "markdown",
   "metadata": {},
   "source": [
    "## Notebook Description"
   ]
  },
  {
   "cell_type": "markdown",
   "metadata": {},
   "source": [
    "### Initialize packages and read in pickled data"
   ]
  },
  {
   "cell_type": "code",
   "execution_count": 2,
   "metadata": {},
   "outputs": [],
   "source": [
    "# ! pip install scrapy\n",
    "# ! pip install psycopg2\n",
    "# ! pip install sqlalchemy\n",
    "# ! pip install missingno --quiet\n",
    "# ! pip install scipy"
   ]
  },
  {
   "cell_type": "code",
   "execution_count": 3,
   "metadata": {
    "scrolled": true
   },
   "outputs": [],
   "source": [
    "% run __init__.py"
   ]
  },
  {
   "cell_type": "code",
   "execution_count": 4,
   "metadata": {},
   "outputs": [
    {
     "name": "stdout",
     "output_type": "stream",
     "text": [
      "/home/jovyan\n"
     ]
    }
   ],
   "source": [
    "cd .."
   ]
  },
  {
   "cell_type": "code",
   "execution_count": 5,
   "metadata": {},
   "outputs": [],
   "source": [
    "df_model = pd.read_pickle('data/df_model.p')"
   ]
  },
  {
   "cell_type": "code",
   "execution_count": 6,
   "metadata": {
    "scrolled": false
   },
   "outputs": [
    {
     "data": {
      "text/plain": [
       "(127052, 88)"
      ]
     },
     "execution_count": 6,
     "metadata": {},
     "output_type": "execute_result"
    }
   ],
   "source": [
    "df_model.shape"
   ]
  },
  {
   "cell_type": "markdown",
   "metadata": {},
   "source": [
    "### Set up target and predictors"
   ]
  },
  {
   "cell_type": "code",
   "execution_count": 7,
   "metadata": {},
   "outputs": [],
   "source": [
    "df_model.drop('player_id', axis=1, inplace=True)"
   ]
  },
  {
   "cell_type": "code",
   "execution_count": 8,
   "metadata": {},
   "outputs": [],
   "source": [
    "target = df_model['hit_flag']\n",
    "predictors = df_model.drop('hit_flag', axis=1)"
   ]
  },
  {
   "cell_type": "markdown",
   "metadata": {},
   "source": [
    "BoxCox requires all positive values, so I'll start this workflow by using a `MinMaxScaler` on my data"
   ]
  },
  {
   "cell_type": "markdown",
   "metadata": {},
   "source": [
    "### `MinMaxScaler`"
   ]
  },
  {
   "cell_type": "code",
   "execution_count": 9,
   "metadata": {},
   "outputs": [],
   "source": [
    "df_model_proc_all = predictors.copy()"
   ]
  },
  {
   "cell_type": "code",
   "execution_count": 10,
   "metadata": {},
   "outputs": [],
   "source": [
    "min_max = MinMaxScaler(feature_range=(1E-10,1))"
   ]
  },
  {
   "cell_type": "code",
   "execution_count": 11,
   "metadata": {},
   "outputs": [],
   "source": [
    "df_model_mm = pd.DataFrame(min_max.fit_transform(df_model_proc_all), \n",
    "                           index=df_model_proc_all.index, \n",
    "                           columns=df_model_proc_all.columns)"
   ]
  },
  {
   "cell_type": "markdown",
   "metadata": {},
   "source": [
    "### Skew-Normalize Features"
   ]
  },
  {
   "cell_type": "markdown",
   "metadata": {},
   "source": [
    "#### `box_cox`"
   ]
  },
  {
   "cell_type": "code",
   "execution_count": 12,
   "metadata": {},
   "outputs": [],
   "source": [
    "def box_cox(predictors):\n",
    "    '''Input dataframe to deskew it'''\n",
    "    df_model_bc = pd.DataFrame()\n",
    "    for col in predictors.columns:\n",
    "        box_cox, lmbda = boxcox(predictors[col])\n",
    "        df_model_bc[col] = pd.Series(box_cox)\n",
    "    \n",
    "    df_model_bc.set_index(predictors.index, inplace=True)\n",
    "    \n",
    "    return df_model_bc"
   ]
  },
  {
   "cell_type": "code",
   "execution_count": 13,
   "metadata": {},
   "outputs": [
    {
     "name": "stderr",
     "output_type": "stream",
     "text": [
      "/opt/conda/lib/python3.6/site-packages/scipy/stats/morestats.py:901: RuntimeWarning: overflow encountered in square\n",
      "  llf -= N / 2.0 * np.log(np.sum((y - y_mean)**2. / N, axis=0))\n"
     ]
    }
   ],
   "source": [
    "df_model_skewnorm = box_cox(df_model_mm)"
   ]
  },
  {
   "cell_type": "code",
   "execution_count": 14,
   "metadata": {
    "scrolled": false
   },
   "outputs": [
    {
     "data": {
      "text/html": [
       "<div>\n",
       "<table border=\"1\" class=\"dataframe\">\n",
       "  <thead>\n",
       "    <tr style=\"text-align: right;\">\n",
       "      <th></th>\n",
       "      <th>mph</th>\n",
       "      <th>ev_mph</th>\n",
       "      <th>dist</th>\n",
       "      <th>spin_rate</th>\n",
       "      <th>launch_angle</th>\n",
       "      <th>zone_1.0</th>\n",
       "      <th>zone_11.0</th>\n",
       "      <th>zone_12.0</th>\n",
       "      <th>zone_13.0</th>\n",
       "      <th>zone_14.0</th>\n",
       "      <th>...</th>\n",
       "      <th>full_pitch_Knuckle-curve</th>\n",
       "      <th>full_pitch_Knuckleball</th>\n",
       "      <th>full_pitch_Pitch out</th>\n",
       "      <th>full_pitch_Screwball</th>\n",
       "      <th>full_pitch_Slider</th>\n",
       "      <th>full_pitch_Two-Seam Fastball</th>\n",
       "      <th>full_pitch_Unidentified</th>\n",
       "      <th>pitch_rollup_fastball</th>\n",
       "      <th>pitch_rollup_offspeed</th>\n",
       "      <th>pitch_rollup_other</th>\n",
       "    </tr>\n",
       "    <tr>\n",
       "      <th>unique_id</th>\n",
       "      <th></th>\n",
       "      <th></th>\n",
       "      <th></th>\n",
       "      <th></th>\n",
       "      <th></th>\n",
       "      <th></th>\n",
       "      <th></th>\n",
       "      <th></th>\n",
       "      <th></th>\n",
       "      <th></th>\n",
       "      <th></th>\n",
       "      <th></th>\n",
       "      <th></th>\n",
       "      <th></th>\n",
       "      <th></th>\n",
       "      <th></th>\n",
       "      <th></th>\n",
       "      <th></th>\n",
       "      <th></th>\n",
       "      <th></th>\n",
       "      <th></th>\n",
       "    </tr>\n",
       "  </thead>\n",
       "  <tbody>\n",
       "    <tr>\n",
       "      <th>434378-8</th>\n",
       "      <td>-0.180440</td>\n",
       "      <td>-0.090954</td>\n",
       "      <td>-0.468592</td>\n",
       "      <td>-0.302719</td>\n",
       "      <td>-0.225151</td>\n",
       "      <td>-1.128437e+08</td>\n",
       "      <td>-1.165759e+09</td>\n",
       "      <td>-1.445784e+10</td>\n",
       "      <td>-1.838004e+08</td>\n",
       "      <td>-1.368555e+07</td>\n",
       "      <td>...</td>\n",
       "      <td>-1.275003e+21</td>\n",
       "      <td>-3.990265e+98</td>\n",
       "      <td>-1.341265e+154</td>\n",
       "      <td>-1.340852e+154</td>\n",
       "      <td>0.000000</td>\n",
       "      <td>-1496.250076</td>\n",
       "      <td>-5.213913e+128</td>\n",
       "      <td>-10.838925</td>\n",
       "      <td>0.000000</td>\n",
       "      <td>-6.834172e+115</td>\n",
       "    </tr>\n",
       "    <tr>\n",
       "      <th>434378-14</th>\n",
       "      <td>-0.116816</td>\n",
       "      <td>-0.191493</td>\n",
       "      <td>-0.571264</td>\n",
       "      <td>-0.328504</td>\n",
       "      <td>-0.204774</td>\n",
       "      <td>0.000000e+00</td>\n",
       "      <td>-1.165759e+09</td>\n",
       "      <td>-1.445784e+10</td>\n",
       "      <td>-1.838004e+08</td>\n",
       "      <td>-1.368555e+07</td>\n",
       "      <td>...</td>\n",
       "      <td>-1.275003e+21</td>\n",
       "      <td>-3.990265e+98</td>\n",
       "      <td>-1.341265e+154</td>\n",
       "      <td>-1.340852e+154</td>\n",
       "      <td>-2602.974371</td>\n",
       "      <td>-1496.250076</td>\n",
       "      <td>-5.213913e+128</td>\n",
       "      <td>0.000000</td>\n",
       "      <td>-65.018139</td>\n",
       "      <td>-6.834172e+115</td>\n",
       "    </tr>\n",
       "    <tr>\n",
       "      <th>434378-16</th>\n",
       "      <td>-0.161768</td>\n",
       "      <td>-0.261724</td>\n",
       "      <td>-0.721032</td>\n",
       "      <td>-0.320188</td>\n",
       "      <td>-0.241653</td>\n",
       "      <td>-1.128437e+08</td>\n",
       "      <td>-1.165759e+09</td>\n",
       "      <td>-1.445784e+10</td>\n",
       "      <td>-1.838004e+08</td>\n",
       "      <td>-1.368555e+07</td>\n",
       "      <td>...</td>\n",
       "      <td>-1.275003e+21</td>\n",
       "      <td>-3.990265e+98</td>\n",
       "      <td>-1.341265e+154</td>\n",
       "      <td>-1.340852e+154</td>\n",
       "      <td>0.000000</td>\n",
       "      <td>-1496.250076</td>\n",
       "      <td>-5.213913e+128</td>\n",
       "      <td>-10.838925</td>\n",
       "      <td>0.000000</td>\n",
       "      <td>-6.834172e+115</td>\n",
       "    </tr>\n",
       "  </tbody>\n",
       "</table>\n",
       "<p>3 rows × 86 columns</p>\n",
       "</div>"
      ],
      "text/plain": [
       "                mph    ev_mph      dist  spin_rate  launch_angle  \\\n",
       "unique_id                                                          \n",
       "434378-8  -0.180440 -0.090954 -0.468592  -0.302719     -0.225151   \n",
       "434378-14 -0.116816 -0.191493 -0.571264  -0.328504     -0.204774   \n",
       "434378-16 -0.161768 -0.261724 -0.721032  -0.320188     -0.241653   \n",
       "\n",
       "               zone_1.0     zone_11.0     zone_12.0     zone_13.0  \\\n",
       "unique_id                                                           \n",
       "434378-8  -1.128437e+08 -1.165759e+09 -1.445784e+10 -1.838004e+08   \n",
       "434378-14  0.000000e+00 -1.165759e+09 -1.445784e+10 -1.838004e+08   \n",
       "434378-16 -1.128437e+08 -1.165759e+09 -1.445784e+10 -1.838004e+08   \n",
       "\n",
       "              zone_14.0         ...          full_pitch_Knuckle-curve  \\\n",
       "unique_id                       ...                                     \n",
       "434378-8  -1.368555e+07         ...                     -1.275003e+21   \n",
       "434378-14 -1.368555e+07         ...                     -1.275003e+21   \n",
       "434378-16 -1.368555e+07         ...                     -1.275003e+21   \n",
       "\n",
       "           full_pitch_Knuckleball  full_pitch_Pitch out  full_pitch_Screwball  \\\n",
       "unique_id                                                                       \n",
       "434378-8            -3.990265e+98        -1.341265e+154        -1.340852e+154   \n",
       "434378-14           -3.990265e+98        -1.341265e+154        -1.340852e+154   \n",
       "434378-16           -3.990265e+98        -1.341265e+154        -1.340852e+154   \n",
       "\n",
       "           full_pitch_Slider  full_pitch_Two-Seam Fastball  \\\n",
       "unique_id                                                    \n",
       "434378-8            0.000000                  -1496.250076   \n",
       "434378-14       -2602.974371                  -1496.250076   \n",
       "434378-16           0.000000                  -1496.250076   \n",
       "\n",
       "           full_pitch_Unidentified  pitch_rollup_fastball  \\\n",
       "unique_id                                                   \n",
       "434378-8            -5.213913e+128             -10.838925   \n",
       "434378-14           -5.213913e+128               0.000000   \n",
       "434378-16           -5.213913e+128             -10.838925   \n",
       "\n",
       "           pitch_rollup_offspeed  pitch_rollup_other  \n",
       "unique_id                                             \n",
       "434378-8                0.000000      -6.834172e+115  \n",
       "434378-14             -65.018139      -6.834172e+115  \n",
       "434378-16               0.000000      -6.834172e+115  \n",
       "\n",
       "[3 rows x 86 columns]"
      ]
     },
     "execution_count": 14,
     "metadata": {},
     "output_type": "execute_result"
    }
   ],
   "source": [
    "df_model_skewnorm.head(3)"
   ]
  },
  {
   "cell_type": "markdown",
   "metadata": {},
   "source": [
    "### Standardize Features"
   ]
  },
  {
   "cell_type": "markdown",
   "metadata": {},
   "source": [
    "**`StandardScaler()`**"
   ]
  },
  {
   "cell_type": "code",
   "execution_count": 15,
   "metadata": {},
   "outputs": [],
   "source": [
    "standardized = (StandardScaler().fit_transform(df_model_skewnorm))\n",
    "df_standardized = pd.DataFrame(standardized, columns=df_model_skewnorm.columns, index=df_model_skewnorm.index)"
   ]
  },
  {
   "cell_type": "code",
   "execution_count": 16,
   "metadata": {},
   "outputs": [
    {
     "data": {
      "text/plain": [
       "(127052, 86)"
      ]
     },
     "execution_count": 16,
     "metadata": {},
     "output_type": "execute_result"
    }
   ],
   "source": [
    "df_standardized.shape"
   ]
  },
  {
   "cell_type": "code",
   "execution_count": 17,
   "metadata": {},
   "outputs": [
    {
     "data": {
      "text/plain": [
       "(127052,)"
      ]
     },
     "execution_count": 17,
     "metadata": {},
     "output_type": "execute_result"
    }
   ],
   "source": [
    "target.shape"
   ]
  },
  {
   "cell_type": "markdown",
   "metadata": {},
   "source": [
    "### Feature Selection"
   ]
  },
  {
   "cell_type": "markdown",
   "metadata": {},
   "source": [
    "#### `SelectFromModel` with L1 penatly estimator"
   ]
  },
  {
   "cell_type": "code",
   "execution_count": 19,
   "metadata": {},
   "outputs": [
    {
     "data": {
      "text/plain": [
       "SelectFromModel(estimator=LogisticRegression(C=1.0, class_weight=None, dual=False, fit_intercept=True,\n",
       "          intercept_scaling=1, max_iter=100, multi_class='ovr', n_jobs=1,\n",
       "          penalty='l1', random_state=None, solver='liblinear', tol=0.0001,\n",
       "          verbose=0, warm_start=False),\n",
       "        prefit=False, threshold='mean')"
      ]
     },
     "execution_count": 19,
     "metadata": {},
     "output_type": "execute_result"
    }
   ],
   "source": [
    "sfm = SelectFromModel(LogisticRegression(penalty='l1'), threshold='mean')\n",
    "sfm.fit(df_standardized, target)"
   ]
  },
  {
   "cell_type": "code",
   "execution_count": 20,
   "metadata": {},
   "outputs": [
    {
     "data": {
      "text/plain": [
       "array([ 1,  2,  4,  8,  9, 18])"
      ]
     },
     "execution_count": 20,
     "metadata": {},
     "output_type": "execute_result"
    }
   ],
   "source": [
    "sfm_feats = np.where(sfm.get_support())[0]\n",
    "sfm_feats"
   ]
  },
  {
   "cell_type": "code",
   "execution_count": 22,
   "metadata": {},
   "outputs": [
    {
     "data": {
      "text/plain": [
       "['ev_mph', 'dist', 'launch_angle', 'zone_13.0', 'zone_14.0', 'zone_unknown']"
      ]
     },
     "execution_count": 22,
     "metadata": {},
     "output_type": "execute_result"
    }
   ],
   "source": [
    "columns = list(df_standardized.columns)\n",
    "\n",
    "sfm_feats_names = []\n",
    "for i in sfm_feats:\n",
    "    sfm_feats_names.append(columns[i])\n",
    "    \n",
    "sfm_feats_names"
   ]
  },
  {
   "cell_type": "markdown",
   "metadata": {},
   "source": [
    "### Create dataframe with only selected features"
   ]
  },
  {
   "cell_type": "code",
   "execution_count": 23,
   "metadata": {},
   "outputs": [],
   "source": [
    "df_slim = df_standardized[sfm_feats_names]"
   ]
  },
  {
   "cell_type": "code",
   "execution_count": 24,
   "metadata": {},
   "outputs": [
    {
     "data": {
      "text/plain": [
       "((127052, 6), (127052,))"
      ]
     },
     "execution_count": 24,
     "metadata": {},
     "output_type": "execute_result"
    }
   ],
   "source": [
    "df_slim.shape, target.shape"
   ]
  },
  {
   "cell_type": "markdown",
   "metadata": {},
   "source": [
    "### K Neighbors Classifier - Cross Validation"
   ]
  },
  {
   "cell_type": "code",
   "execution_count": 31,
   "metadata": {},
   "outputs": [],
   "source": [
    "knn = KNeighborsClassifier()\n",
    "logreg = LogisticRegression()\n",
    "dtree = DecisionTreeClassifier()"
   ]
  },
  {
   "cell_type": "code",
   "execution_count": 26,
   "metadata": {},
   "outputs": [
    {
     "data": {
      "text/plain": [
       "0.80237220839127377"
      ]
     },
     "execution_count": 26,
     "metadata": {},
     "output_type": "execute_result"
    }
   ],
   "source": [
    "scores = cross_val_score(knn, df_slim, target, cv=10, scoring='accuracy')\n",
    "scores.mean()"
   ]
  },
  {
   "cell_type": "markdown",
   "metadata": {},
   "source": [
    "### Logistic Regression - Cross Validation"
   ]
  },
  {
   "cell_type": "code",
   "execution_count": 32,
   "metadata": {},
   "outputs": [
    {
     "data": {
      "text/plain": [
       "0.74770958453183334"
      ]
     },
     "execution_count": 32,
     "metadata": {},
     "output_type": "execute_result"
    }
   ],
   "source": [
    "logreg_scores = cross_val_score(logreg, df_slim, target, cv=10, scoring='accuracy')\n",
    "logreg_scores.mean()"
   ]
  },
  {
   "cell_type": "markdown",
   "metadata": {},
   "source": [
    "### Decision Tree Classifier - Cross Validation"
   ]
  },
  {
   "cell_type": "code",
   "execution_count": 33,
   "metadata": {},
   "outputs": [
    {
     "data": {
      "text/plain": [
       "0.76027135491869713"
      ]
     },
     "execution_count": 33,
     "metadata": {},
     "output_type": "execute_result"
    }
   ],
   "source": [
    "dtree_scores = cross_val_score(dtree, df_slim, target, cv=10, scoring='accuracy')\n",
    "dtree_scores.mean()"
   ]
  },
  {
   "cell_type": "markdown",
   "metadata": {},
   "source": [
    "After all preprocessing steps, cross-validation confirms our findings from single runs through our models...K Neighbors is the best performer for this data. For the remaining notebooks up until PowerHouse_Models, only K Neighbors will be used."
   ]
  },
  {
   "cell_type": "code",
   "execution_count": null,
   "metadata": {},
   "outputs": [],
   "source": []
  }
 ],
 "metadata": {
  "kernelspec": {
   "display_name": "Python 3",
   "language": "python",
   "name": "python3"
  },
  "language_info": {
   "codemirror_mode": {
    "name": "ipython",
    "version": 3
   },
   "file_extension": ".py",
   "mimetype": "text/x-python",
   "name": "python",
   "nbconvert_exporter": "python",
   "pygments_lexer": "ipython3",
   "version": "3.6.3"
  }
 },
 "nbformat": 4,
 "nbformat_minor": 2
}
