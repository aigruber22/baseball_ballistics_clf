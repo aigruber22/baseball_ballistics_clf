{
 "cells": [
  {
   "cell_type": "markdown",
   "metadata": {},
   "source": [
    "## Project Description"
   ]
  },
  {
   "cell_type": "markdown",
   "metadata": {},
   "source": [
    "MLB Advanced Media, as stated in a job description for which I was intrigued by, was looking to develop insights into predictability of a hit based on data acquired through their Statcast tool. Statcast is a high-speed, high-accuracy device that tracks ball and player movements. \n",
    "\n",
    "The findings of this task would be for use by analysts and commentators during game broadcasts. The problem statement for the specfic prediction I undertook is:\n",
    "\n",
    "Based on the ballistics of the pitch and the ball hit into play, what is the likelihood it results in a hit."
   ]
  },
  {
   "cell_type": "markdown",
   "metadata": {},
   "source": [
    "## Notebook Description"
   ]
  },
  {
   "cell_type": "markdown",
   "metadata": {},
   "source": [
    "11\\. Run each model through a 10-fold **cross-validation** and score each model.\n",
    "\n",
    "- After all preprocessing steps, cross-validation confirms our findings from our original benchmarking...K Neighbors and Random Fores are the best performers for this data. Since K Neighbors scores really slowly, for the remaining notebooks only Random Forest will be used."
   ]
  },
  {
   "cell_type": "markdown",
   "metadata": {},
   "source": [
    "### Initialize packages and read in pickled data"
   ]
  },
  {
   "cell_type": "code",
   "execution_count": 1,
   "metadata": {},
   "outputs": [],
   "source": [
    "# ! pip install scrapy\n",
    "# ! pip install psycopg2\n",
    "# ! pip install sqlalchemy\n",
    "# ! pip install missingno --quiet\n",
    "# ! pip install scipy"
   ]
  },
  {
   "cell_type": "code",
   "execution_count": 2,
   "metadata": {
    "scrolled": true
   },
   "outputs": [],
   "source": [
    "% run __init__.py"
   ]
  },
  {
   "cell_type": "code",
   "execution_count": 3,
   "metadata": {},
   "outputs": [
    {
     "name": "stdout",
     "output_type": "stream",
     "text": [
      "/home/jovyan\n"
     ]
    }
   ],
   "source": [
    "cd .."
   ]
  },
  {
   "cell_type": "code",
   "execution_count": 4,
   "metadata": {},
   "outputs": [],
   "source": [
    "df_model = pd.read_pickle('data/df_model.p')"
   ]
  },
  {
   "cell_type": "code",
   "execution_count": 5,
   "metadata": {
    "scrolled": false
   },
   "outputs": [
    {
     "data": {
      "text/plain": [
       "(127052, 88)"
      ]
     },
     "execution_count": 5,
     "metadata": {},
     "output_type": "execute_result"
    }
   ],
   "source": [
    "df_model.shape"
   ]
  },
  {
   "cell_type": "markdown",
   "metadata": {},
   "source": [
    "### Resampling by Down-Sampling `no_hit` class"
   ]
  },
  {
   "cell_type": "code",
   "execution_count": 6,
   "metadata": {},
   "outputs": [
    {
     "data": {
      "text/plain": [
       "((41459, 88), (85593, 88))"
      ]
     },
     "execution_count": 6,
     "metadata": {},
     "output_type": "execute_result"
    }
   ],
   "source": [
    "df_model_hit = df_model[df_model['hit_flag']==True]\n",
    "df_model_no_hit = df_model[df_model['hit_flag']==False]\n",
    "df_model_hit.shape, df_model_no_hit.shape"
   ]
  },
  {
   "cell_type": "code",
   "execution_count": 7,
   "metadata": {},
   "outputs": [],
   "source": [
    "df_model_no_hit_rs = df_model_no_hit.sample(df_model_hit.shape[0])"
   ]
  },
  {
   "cell_type": "code",
   "execution_count": 8,
   "metadata": {},
   "outputs": [
    {
     "data": {
      "text/plain": [
       "(41459, 88)"
      ]
     },
     "execution_count": 8,
     "metadata": {},
     "output_type": "execute_result"
    }
   ],
   "source": [
    "df_model_no_hit_rs.shape"
   ]
  },
  {
   "cell_type": "code",
   "execution_count": 9,
   "metadata": {},
   "outputs": [],
   "source": [
    "df_model_rs = pd.concat([df_model_hit, df_model_no_hit_rs], axis=0)"
   ]
  },
  {
   "cell_type": "code",
   "execution_count": 10,
   "metadata": {
    "scrolled": true
   },
   "outputs": [
    {
     "data": {
      "text/plain": [
       "(82918, 88)"
      ]
     },
     "execution_count": 10,
     "metadata": {},
     "output_type": "execute_result"
    }
   ],
   "source": [
    "df_model_rs.shape"
   ]
  },
  {
   "cell_type": "markdown",
   "metadata": {},
   "source": [
    "### Set up target and predictors"
   ]
  },
  {
   "cell_type": "code",
   "execution_count": 11,
   "metadata": {},
   "outputs": [],
   "source": [
    "df_model_rs.drop('player_id', axis=1, inplace=True)"
   ]
  },
  {
   "cell_type": "code",
   "execution_count": 12,
   "metadata": {},
   "outputs": [],
   "source": [
    "target = df_model_rs['hit_flag']\n",
    "predictors = df_model_rs.drop('hit_flag', axis=1)"
   ]
  },
  {
   "cell_type": "markdown",
   "metadata": {},
   "source": [
    "BoxCox requires all positive values, so I'll start this workflow by using a `MinMaxScaler` on my data"
   ]
  },
  {
   "cell_type": "markdown",
   "metadata": {},
   "source": [
    "### `MinMaxScaler`"
   ]
  },
  {
   "cell_type": "code",
   "execution_count": 13,
   "metadata": {},
   "outputs": [],
   "source": [
    "df_model_proc_all = predictors.copy()"
   ]
  },
  {
   "cell_type": "code",
   "execution_count": 14,
   "metadata": {},
   "outputs": [],
   "source": [
    "min_max = MinMaxScaler(feature_range=(1E-10,1))"
   ]
  },
  {
   "cell_type": "code",
   "execution_count": 15,
   "metadata": {},
   "outputs": [],
   "source": [
    "df_model_mm = pd.DataFrame(min_max.fit_transform(df_model_proc_all), \n",
    "                           index=df_model_proc_all.index, \n",
    "                           columns=df_model_proc_all.columns)"
   ]
  },
  {
   "cell_type": "markdown",
   "metadata": {},
   "source": [
    "### Skew-Normalize Features"
   ]
  },
  {
   "cell_type": "markdown",
   "metadata": {},
   "source": [
    "#### `box_cox`"
   ]
  },
  {
   "cell_type": "code",
   "execution_count": 16,
   "metadata": {},
   "outputs": [],
   "source": [
    "def box_cox(predictors):\n",
    "    '''Input dataframe to deskew it'''\n",
    "    df_model_bc = pd.DataFrame()\n",
    "    for col in predictors.columns:\n",
    "        box_cox, lmbda = boxcox(predictors[col])\n",
    "        df_model_bc[col] = pd.Series(box_cox)\n",
    "    \n",
    "    df_model_bc.set_index(predictors.index, inplace=True)\n",
    "    \n",
    "    return df_model_bc"
   ]
  },
  {
   "cell_type": "code",
   "execution_count": 17,
   "metadata": {},
   "outputs": [
    {
     "name": "stderr",
     "output_type": "stream",
     "text": [
      "/opt/conda/lib/python3.6/site-packages/scipy/stats/morestats.py:901: RuntimeWarning: overflow encountered in square\n",
      "  llf -= N / 2.0 * np.log(np.sum((y - y_mean)**2. / N, axis=0))\n"
     ]
    }
   ],
   "source": [
    "df_model_skewnorm = box_cox(df_model_mm)"
   ]
  },
  {
   "cell_type": "code",
   "execution_count": 18,
   "metadata": {
    "scrolled": false
   },
   "outputs": [
    {
     "data": {
      "text/html": [
       "<div>\n",
       "<table border=\"1\" class=\"dataframe\">\n",
       "  <thead>\n",
       "    <tr style=\"text-align: right;\">\n",
       "      <th></th>\n",
       "      <th>mph</th>\n",
       "      <th>ev_mph</th>\n",
       "      <th>dist</th>\n",
       "      <th>spin_rate</th>\n",
       "      <th>launch_angle</th>\n",
       "      <th>zone_1.0</th>\n",
       "      <th>zone_11.0</th>\n",
       "      <th>zone_12.0</th>\n",
       "      <th>zone_13.0</th>\n",
       "      <th>zone_14.0</th>\n",
       "      <th>...</th>\n",
       "      <th>full_pitch_Knuckle-curve</th>\n",
       "      <th>full_pitch_Knuckleball</th>\n",
       "      <th>full_pitch_Pitch out</th>\n",
       "      <th>full_pitch_Screwball</th>\n",
       "      <th>full_pitch_Slider</th>\n",
       "      <th>full_pitch_Two-Seam Fastball</th>\n",
       "      <th>full_pitch_Unidentified</th>\n",
       "      <th>pitch_rollup_fastball</th>\n",
       "      <th>pitch_rollup_offspeed</th>\n",
       "      <th>pitch_rollup_other</th>\n",
       "    </tr>\n",
       "    <tr>\n",
       "      <th>unique_id</th>\n",
       "      <th></th>\n",
       "      <th></th>\n",
       "      <th></th>\n",
       "      <th></th>\n",
       "      <th></th>\n",
       "      <th></th>\n",
       "      <th></th>\n",
       "      <th></th>\n",
       "      <th></th>\n",
       "      <th></th>\n",
       "      <th></th>\n",
       "      <th></th>\n",
       "      <th></th>\n",
       "      <th></th>\n",
       "      <th></th>\n",
       "      <th></th>\n",
       "      <th></th>\n",
       "      <th></th>\n",
       "      <th></th>\n",
       "      <th></th>\n",
       "      <th></th>\n",
       "    </tr>\n",
       "  </thead>\n",
       "  <tbody>\n",
       "    <tr>\n",
       "      <th>434378-29</th>\n",
       "      <td>-0.089029</td>\n",
       "      <td>-0.121753</td>\n",
       "      <td>-0.193556</td>\n",
       "      <td>-0.291131</td>\n",
       "      <td>-0.336408</td>\n",
       "      <td>-1.266339e+08</td>\n",
       "      <td>-4.390817e+09</td>\n",
       "      <td>-3.464599e+10</td>\n",
       "      <td>-2.829086e+08</td>\n",
       "      <td>-2.715661e+07</td>\n",
       "      <td>...</td>\n",
       "      <td>-1.010109e+21</td>\n",
       "      <td>-1.409402e+100</td>\n",
       "      <td>-1.341281e+154</td>\n",
       "      <td>-1.340843e+154</td>\n",
       "      <td>-2700.098361</td>\n",
       "      <td>-1413.670725</td>\n",
       "      <td>-2.369794e+124</td>\n",
       "      <td>0.000000</td>\n",
       "      <td>-66.807809</td>\n",
       "      <td>-6.823000e+111</td>\n",
       "    </tr>\n",
       "    <tr>\n",
       "      <th>434378-38</th>\n",
       "      <td>-0.097911</td>\n",
       "      <td>-0.116143</td>\n",
       "      <td>-0.507818</td>\n",
       "      <td>-0.314886</td>\n",
       "      <td>-0.460449</td>\n",
       "      <td>-1.266339e+08</td>\n",
       "      <td>0.000000e+00</td>\n",
       "      <td>-3.464599e+10</td>\n",
       "      <td>-2.829086e+08</td>\n",
       "      <td>-2.715661e+07</td>\n",
       "      <td>...</td>\n",
       "      <td>-1.010109e+21</td>\n",
       "      <td>-1.409402e+100</td>\n",
       "      <td>-1.341281e+154</td>\n",
       "      <td>-1.340843e+154</td>\n",
       "      <td>-2700.098361</td>\n",
       "      <td>-1413.670725</td>\n",
       "      <td>-2.369794e+124</td>\n",
       "      <td>0.000000</td>\n",
       "      <td>-66.807809</td>\n",
       "      <td>-6.823000e+111</td>\n",
       "    </tr>\n",
       "    <tr>\n",
       "      <th>434378-56</th>\n",
       "      <td>-0.218093</td>\n",
       "      <td>-0.255515</td>\n",
       "      <td>-0.576918</td>\n",
       "      <td>-0.233781</td>\n",
       "      <td>-0.355710</td>\n",
       "      <td>-1.266339e+08</td>\n",
       "      <td>-4.390817e+09</td>\n",
       "      <td>-3.464599e+10</td>\n",
       "      <td>-2.829086e+08</td>\n",
       "      <td>-2.715661e+07</td>\n",
       "      <td>...</td>\n",
       "      <td>-1.010109e+21</td>\n",
       "      <td>-1.409402e+100</td>\n",
       "      <td>-1.341281e+154</td>\n",
       "      <td>-1.340843e+154</td>\n",
       "      <td>-2700.098361</td>\n",
       "      <td>-1413.670725</td>\n",
       "      <td>-2.369794e+124</td>\n",
       "      <td>-10.684707</td>\n",
       "      <td>0.000000</td>\n",
       "      <td>-6.823000e+111</td>\n",
       "    </tr>\n",
       "  </tbody>\n",
       "</table>\n",
       "<p>3 rows × 86 columns</p>\n",
       "</div>"
      ],
      "text/plain": [
       "                mph    ev_mph      dist  spin_rate  launch_angle  \\\n",
       "unique_id                                                          \n",
       "434378-29 -0.089029 -0.121753 -0.193556  -0.291131     -0.336408   \n",
       "434378-38 -0.097911 -0.116143 -0.507818  -0.314886     -0.460449   \n",
       "434378-56 -0.218093 -0.255515 -0.576918  -0.233781     -0.355710   \n",
       "\n",
       "               zone_1.0     zone_11.0     zone_12.0     zone_13.0  \\\n",
       "unique_id                                                           \n",
       "434378-29 -1.266339e+08 -4.390817e+09 -3.464599e+10 -2.829086e+08   \n",
       "434378-38 -1.266339e+08  0.000000e+00 -3.464599e+10 -2.829086e+08   \n",
       "434378-56 -1.266339e+08 -4.390817e+09 -3.464599e+10 -2.829086e+08   \n",
       "\n",
       "              zone_14.0         ...          full_pitch_Knuckle-curve  \\\n",
       "unique_id                       ...                                     \n",
       "434378-29 -2.715661e+07         ...                     -1.010109e+21   \n",
       "434378-38 -2.715661e+07         ...                     -1.010109e+21   \n",
       "434378-56 -2.715661e+07         ...                     -1.010109e+21   \n",
       "\n",
       "           full_pitch_Knuckleball  full_pitch_Pitch out  full_pitch_Screwball  \\\n",
       "unique_id                                                                       \n",
       "434378-29          -1.409402e+100        -1.341281e+154        -1.340843e+154   \n",
       "434378-38          -1.409402e+100        -1.341281e+154        -1.340843e+154   \n",
       "434378-56          -1.409402e+100        -1.341281e+154        -1.340843e+154   \n",
       "\n",
       "           full_pitch_Slider  full_pitch_Two-Seam Fastball  \\\n",
       "unique_id                                                    \n",
       "434378-29       -2700.098361                  -1413.670725   \n",
       "434378-38       -2700.098361                  -1413.670725   \n",
       "434378-56       -2700.098361                  -1413.670725   \n",
       "\n",
       "           full_pitch_Unidentified  pitch_rollup_fastball  \\\n",
       "unique_id                                                   \n",
       "434378-29           -2.369794e+124               0.000000   \n",
       "434378-38           -2.369794e+124               0.000000   \n",
       "434378-56           -2.369794e+124             -10.684707   \n",
       "\n",
       "           pitch_rollup_offspeed  pitch_rollup_other  \n",
       "unique_id                                             \n",
       "434378-29             -66.807809      -6.823000e+111  \n",
       "434378-38             -66.807809      -6.823000e+111  \n",
       "434378-56               0.000000      -6.823000e+111  \n",
       "\n",
       "[3 rows x 86 columns]"
      ]
     },
     "execution_count": 18,
     "metadata": {},
     "output_type": "execute_result"
    }
   ],
   "source": [
    "df_model_skewnorm.head(3)"
   ]
  },
  {
   "cell_type": "markdown",
   "metadata": {},
   "source": [
    "### Standardize Features"
   ]
  },
  {
   "cell_type": "markdown",
   "metadata": {},
   "source": [
    "**`StandardScaler()`**"
   ]
  },
  {
   "cell_type": "code",
   "execution_count": 19,
   "metadata": {},
   "outputs": [],
   "source": [
    "standardized = (StandardScaler().fit_transform(df_model_skewnorm))\n",
    "df_standardized = pd.DataFrame(standardized, columns=df_model_skewnorm.columns, index=df_model_skewnorm.index)"
   ]
  },
  {
   "cell_type": "code",
   "execution_count": 20,
   "metadata": {},
   "outputs": [
    {
     "data": {
      "text/plain": [
       "(82918, 86)"
      ]
     },
     "execution_count": 20,
     "metadata": {},
     "output_type": "execute_result"
    }
   ],
   "source": [
    "df_standardized.shape"
   ]
  },
  {
   "cell_type": "code",
   "execution_count": 21,
   "metadata": {},
   "outputs": [
    {
     "data": {
      "text/plain": [
       "(82918,)"
      ]
     },
     "execution_count": 21,
     "metadata": {},
     "output_type": "execute_result"
    }
   ],
   "source": [
    "target.shape"
   ]
  },
  {
   "cell_type": "markdown",
   "metadata": {},
   "source": [
    "### Feature Selection"
   ]
  },
  {
   "cell_type": "markdown",
   "metadata": {},
   "source": [
    "#### `SelectFromModel` with L1 penalty estimator"
   ]
  },
  {
   "cell_type": "code",
   "execution_count": 22,
   "metadata": {},
   "outputs": [
    {
     "data": {
      "text/plain": [
       "SelectFromModel(estimator=LogisticRegression(C=1.0, class_weight=None, dual=False, fit_intercept=True,\n",
       "          intercept_scaling=1, max_iter=100, multi_class='ovr', n_jobs=1,\n",
       "          penalty='l1', random_state=None, solver='liblinear', tol=0.0001,\n",
       "          verbose=0, warm_start=False),\n",
       "        prefit=False, threshold='mean')"
      ]
     },
     "execution_count": 22,
     "metadata": {},
     "output_type": "execute_result"
    }
   ],
   "source": [
    "sfm = SelectFromModel(LogisticRegression(penalty='l1'), threshold='mean')\n",
    "sfm.fit(df_standardized, target)"
   ]
  },
  {
   "cell_type": "code",
   "execution_count": 23,
   "metadata": {},
   "outputs": [
    {
     "data": {
      "text/plain": [
       "array([ 1,  2,  4,  6,  8,  9, 18])"
      ]
     },
     "execution_count": 23,
     "metadata": {},
     "output_type": "execute_result"
    }
   ],
   "source": [
    "sfm_feats = np.where(sfm.get_support())[0]\n",
    "sfm_feats"
   ]
  },
  {
   "cell_type": "code",
   "execution_count": 24,
   "metadata": {},
   "outputs": [
    {
     "data": {
      "text/plain": [
       "['ev_mph',\n",
       " 'dist',\n",
       " 'launch_angle',\n",
       " 'zone_11.0',\n",
       " 'zone_13.0',\n",
       " 'zone_14.0',\n",
       " 'zone_unknown']"
      ]
     },
     "execution_count": 24,
     "metadata": {},
     "output_type": "execute_result"
    }
   ],
   "source": [
    "columns = list(df_standardized.columns)\n",
    "\n",
    "sfm_feats_names = []\n",
    "for i in sfm_feats:\n",
    "    sfm_feats_names.append(columns[i])\n",
    "    \n",
    "sfm_feats_names"
   ]
  },
  {
   "cell_type": "markdown",
   "metadata": {},
   "source": [
    "### Create dataframe with only selected features"
   ]
  },
  {
   "cell_type": "code",
   "execution_count": 25,
   "metadata": {},
   "outputs": [],
   "source": [
    "df_slim = df_standardized[sfm_feats_names]"
   ]
  },
  {
   "cell_type": "code",
   "execution_count": 26,
   "metadata": {},
   "outputs": [
    {
     "data": {
      "text/plain": [
       "((82918, 7), (82918,))"
      ]
     },
     "execution_count": 26,
     "metadata": {},
     "output_type": "execute_result"
    }
   ],
   "source": [
    "df_slim.shape, target.shape"
   ]
  },
  {
   "cell_type": "markdown",
   "metadata": {},
   "source": [
    "### K Neighbors Classifier - Cross Validation"
   ]
  },
  {
   "cell_type": "code",
   "execution_count": 27,
   "metadata": {},
   "outputs": [],
   "source": [
    "knn = KNeighborsClassifier()\n",
    "logreg = LogisticRegression()\n",
    "dtree = DecisionTreeClassifier()\n",
    "randforest = RandomForestClassifier()"
   ]
  },
  {
   "cell_type": "code",
   "execution_count": 28,
   "metadata": {},
   "outputs": [
    {
     "data": {
      "text/plain": [
       "0.77933625329280998"
      ]
     },
     "execution_count": 28,
     "metadata": {},
     "output_type": "execute_result"
    }
   ],
   "source": [
    "scores = cross_val_score(knn, df_slim, target, cv=10, scoring='accuracy')\n",
    "scores.mean()"
   ]
  },
  {
   "cell_type": "markdown",
   "metadata": {},
   "source": [
    "### Logistic Regression - Cross Validation"
   ]
  },
  {
   "cell_type": "code",
   "execution_count": 29,
   "metadata": {},
   "outputs": [
    {
     "data": {
      "text/plain": [
       "0.69545838941366311"
      ]
     },
     "execution_count": 29,
     "metadata": {},
     "output_type": "execute_result"
    }
   ],
   "source": [
    "logreg_scores = cross_val_score(logreg, df_slim, target, cv=10, scoring='accuracy')\n",
    "logreg_scores.mean()"
   ]
  },
  {
   "cell_type": "markdown",
   "metadata": {},
   "source": [
    "### Decision Tree Classifier - Cross Validation"
   ]
  },
  {
   "cell_type": "code",
   "execution_count": 30,
   "metadata": {},
   "outputs": [
    {
     "data": {
      "text/plain": [
       "0.73982738896385658"
      ]
     },
     "execution_count": 30,
     "metadata": {},
     "output_type": "execute_result"
    }
   ],
   "source": [
    "dtree_scores = cross_val_score(dtree, df_slim, target, cv=10, scoring='accuracy')\n",
    "dtree_scores.mean()"
   ]
  },
  {
   "cell_type": "markdown",
   "metadata": {},
   "source": [
    "### Random Forest Classifier - Cross Validation"
   ]
  },
  {
   "cell_type": "code",
   "execution_count": 31,
   "metadata": {},
   "outputs": [
    {
     "data": {
      "text/plain": [
       "0.77405395756922979"
      ]
     },
     "execution_count": 31,
     "metadata": {},
     "output_type": "execute_result"
    }
   ],
   "source": [
    "randforest_scores = cross_val_score(randforest, df_slim, target, cv=10, scoring='accuracy')\n",
    "randforest_scores.mean()"
   ]
  },
  {
   "cell_type": "markdown",
   "metadata": {},
   "source": [
    "After all preprocessing steps, cross-validation confirms our findings from our original benchmarking...K Neighbors and Random Fores are the best performers for this data. Since K Neighbors scores really slowly, for the remaining notebooks only Random Forest will be used."
   ]
  },
  {
   "cell_type": "code",
   "execution_count": null,
   "metadata": {},
   "outputs": [],
   "source": []
  }
 ],
 "metadata": {
  "kernelspec": {
   "display_name": "Python 3",
   "language": "python",
   "name": "python3"
  },
  "language_info": {
   "codemirror_mode": {
    "name": "ipython",
    "version": 3
   },
   "file_extension": ".py",
   "mimetype": "text/x-python",
   "name": "python",
   "nbconvert_exporter": "python",
   "pygments_lexer": "ipython3",
   "version": "3.6.3"
  }
 },
 "nbformat": 4,
 "nbformat_minor": 2
}
