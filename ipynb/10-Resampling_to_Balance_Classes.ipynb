{
 "cells": [
  {
   "cell_type": "markdown",
   "metadata": {},
   "source": [
    "## Project Description"
   ]
  },
  {
   "cell_type": "markdown",
   "metadata": {},
   "source": [
    "MLB Advanced Media, as stated in a job description for which I was intrigued by, was looking to develop insights into predictability of a hit based on data acquired through their Statcast tool. Statcast is a high-speed, high-accuracy device that tracks ball and player movements. \n",
    "\n",
    "The findings of this task would be for use by analysts and commentators during game broadcasts. The problem statement for the specfic prediction I undertook is:\n",
    "\n",
    "Based on the ballistics of the pitch and the ball hit into play, what is the likelihood it results in a hit."
   ]
  },
  {
   "cell_type": "markdown",
   "metadata": {},
   "source": [
    "## Notebook Description"
   ]
  },
  {
   "cell_type": "markdown",
   "metadata": {},
   "source": [
    "10\\. **Resample** classes so our target classes (hit, no_hit) are balanced.\n",
    "\n",
    "- Resample target class\n",
    "- Deskew data using `box_cox()`\n",
    "- Apply `MinMaxScaler()` to data\n",
    "- Using `SelectFromModel()` with a `LogisticRegression()` estimator and an L1 penalty, select important features\n",
    "- Train model on deskewed, normalized, and feature optimized data\n",
    "- Define function to train and test a model using specified predictors and targets\n",
    "- Models used:\n",
    "    - K Nearest Neighbors\n",
    "    - Logistic Regression\n",
    "    - Decision Tree Classifier\n",
    "    - Random Forest Classifier\n",
    "- Results:\n",
    "    - Test scores drop ever so slightly after resampling the target classes. This suggests that the accuracy score was getting bolstered by random chance. While the model doesn't predict as accurately, it is more represntative of how it'll perform on out of sample data.\n",
    "\n",
    "|   Model Name   |   Test Score  |   Train Score   |\n",
    "| -----------|:---------------:|--------------:|\n",
    "| K Nearest Neighbors | 0.7792 | 0.8456 |\n",
    "| Logistic Regression | 0.6989 | 0.6943 |\n",
    "| Decision Tree Classifier | 0.7407 | 0.9998 |\n",
    "| Random Forest Classifier | 0.7783 | 0.9838 |"
   ]
  },
  {
   "cell_type": "markdown",
   "metadata": {},
   "source": [
    "### Initialize packages and read in pickled data"
   ]
  },
  {
   "cell_type": "code",
   "execution_count": 2,
   "metadata": {},
   "outputs": [],
   "source": [
    "# ! pip install scrapy\n",
    "# ! pip install psycopg2\n",
    "# ! pip install sqlalchemy\n",
    "# ! pip install missingno --quiet\n",
    "# ! pip install scipy"
   ]
  },
  {
   "cell_type": "code",
   "execution_count": 3,
   "metadata": {
    "scrolled": true
   },
   "outputs": [],
   "source": [
    "% run __init__.py"
   ]
  },
  {
   "cell_type": "code",
   "execution_count": 4,
   "metadata": {},
   "outputs": [
    {
     "name": "stdout",
     "output_type": "stream",
     "text": [
      "/home/jovyan\n"
     ]
    }
   ],
   "source": [
    "cd .."
   ]
  },
  {
   "cell_type": "code",
   "execution_count": 5,
   "metadata": {},
   "outputs": [],
   "source": [
    "df_model = pd.read_pickle('data/df_model.p')"
   ]
  },
  {
   "cell_type": "code",
   "execution_count": 6,
   "metadata": {
    "scrolled": false
   },
   "outputs": [
    {
     "data": {
      "text/plain": [
       "(127052, 88)"
      ]
     },
     "execution_count": 6,
     "metadata": {},
     "output_type": "execute_result"
    }
   ],
   "source": [
    "df_model.shape"
   ]
  },
  {
   "cell_type": "markdown",
   "metadata": {},
   "source": [
    "### Resampling by Down-Sampling `no_hit` class"
   ]
  },
  {
   "cell_type": "code",
   "execution_count": 7,
   "metadata": {},
   "outputs": [
    {
     "data": {
      "text/plain": [
       "((41459, 88), (85593, 88))"
      ]
     },
     "execution_count": 7,
     "metadata": {},
     "output_type": "execute_result"
    }
   ],
   "source": [
    "df_model_hit = df_model[df_model['hit_flag']==True]\n",
    "df_model_no_hit = df_model[df_model['hit_flag']==False]\n",
    "df_model_hit.shape, df_model_no_hit.shape"
   ]
  },
  {
   "cell_type": "code",
   "execution_count": 50,
   "metadata": {},
   "outputs": [],
   "source": [
    "df_model_no_hit_rs = df_model_no_hit.sample(df_model_hit.shape[0])"
   ]
  },
  {
   "cell_type": "code",
   "execution_count": 51,
   "metadata": {},
   "outputs": [
    {
     "data": {
      "text/plain": [
       "(41459, 88)"
      ]
     },
     "execution_count": 51,
     "metadata": {},
     "output_type": "execute_result"
    }
   ],
   "source": [
    "df_model_no_hit_rs.shape"
   ]
  },
  {
   "cell_type": "code",
   "execution_count": 52,
   "metadata": {},
   "outputs": [],
   "source": [
    "df_model_rs = pd.concat([df_model_hit, df_model_no_hit_rs], axis=0)"
   ]
  },
  {
   "cell_type": "code",
   "execution_count": 53,
   "metadata": {
    "scrolled": true
   },
   "outputs": [
    {
     "data": {
      "text/plain": [
       "(82918, 88)"
      ]
     },
     "execution_count": 53,
     "metadata": {},
     "output_type": "execute_result"
    }
   ],
   "source": [
    "df_model_rs.shape"
   ]
  },
  {
   "cell_type": "markdown",
   "metadata": {},
   "source": [
    "### Set up target and predictors"
   ]
  },
  {
   "cell_type": "code",
   "execution_count": 54,
   "metadata": {},
   "outputs": [],
   "source": [
    "df_model_rs.drop('player_id', axis=1, inplace=True)"
   ]
  },
  {
   "cell_type": "code",
   "execution_count": 55,
   "metadata": {},
   "outputs": [],
   "source": [
    "target = df_model_rs['hit_flag']\n",
    "predictors = df_model_rs.drop('hit_flag', axis=1)"
   ]
  },
  {
   "cell_type": "markdown",
   "metadata": {},
   "source": [
    "BoxCox requires all positive values, so I'll start this workflow by using a `MinMaxScaler` on my data"
   ]
  },
  {
   "cell_type": "markdown",
   "metadata": {},
   "source": [
    "### `MinMaxScaler`"
   ]
  },
  {
   "cell_type": "code",
   "execution_count": 56,
   "metadata": {},
   "outputs": [],
   "source": [
    "df_model_proc_all = predictors.copy()"
   ]
  },
  {
   "cell_type": "code",
   "execution_count": 57,
   "metadata": {},
   "outputs": [],
   "source": [
    "min_max = MinMaxScaler(feature_range=(1E-10,1))"
   ]
  },
  {
   "cell_type": "code",
   "execution_count": 58,
   "metadata": {},
   "outputs": [],
   "source": [
    "df_model_mm = pd.DataFrame(min_max.fit_transform(df_model_proc_all), \n",
    "                           index=df_model_proc_all.index, \n",
    "                           columns=df_model_proc_all.columns)"
   ]
  },
  {
   "cell_type": "markdown",
   "metadata": {},
   "source": [
    "### Skew-Normalize Features"
   ]
  },
  {
   "cell_type": "markdown",
   "metadata": {},
   "source": [
    "#### `box_cox`"
   ]
  },
  {
   "cell_type": "code",
   "execution_count": 59,
   "metadata": {},
   "outputs": [],
   "source": [
    "def box_cox(predictors):\n",
    "    '''Input dataframe to deskew it'''\n",
    "    df_model_bc = pd.DataFrame()\n",
    "    for col in predictors.columns:\n",
    "        box_cox, lmbda = boxcox(predictors[col])\n",
    "        df_model_bc[col] = pd.Series(box_cox)\n",
    "    \n",
    "    df_model_bc.set_index(predictors.index, inplace=True)\n",
    "    \n",
    "    return df_model_bc"
   ]
  },
  {
   "cell_type": "code",
   "execution_count": 60,
   "metadata": {},
   "outputs": [
    {
     "name": "stderr",
     "output_type": "stream",
     "text": [
      "/opt/conda/lib/python3.6/site-packages/scipy/stats/morestats.py:901: RuntimeWarning: overflow encountered in square\n",
      "  llf -= N / 2.0 * np.log(np.sum((y - y_mean)**2. / N, axis=0))\n"
     ]
    }
   ],
   "source": [
    "df_model_skewnorm = box_cox(df_model_mm)"
   ]
  },
  {
   "cell_type": "code",
   "execution_count": 61,
   "metadata": {
    "scrolled": false
   },
   "outputs": [
    {
     "data": {
      "text/html": [
       "<div>\n",
       "<table border=\"1\" class=\"dataframe\">\n",
       "  <thead>\n",
       "    <tr style=\"text-align: right;\">\n",
       "      <th></th>\n",
       "      <th>mph</th>\n",
       "      <th>ev_mph</th>\n",
       "      <th>dist</th>\n",
       "      <th>spin_rate</th>\n",
       "      <th>launch_angle</th>\n",
       "      <th>zone_1.0</th>\n",
       "      <th>zone_11.0</th>\n",
       "      <th>zone_12.0</th>\n",
       "      <th>zone_13.0</th>\n",
       "      <th>zone_14.0</th>\n",
       "      <th>...</th>\n",
       "      <th>full_pitch_Knuckle-curve</th>\n",
       "      <th>full_pitch_Knuckleball</th>\n",
       "      <th>full_pitch_Pitch out</th>\n",
       "      <th>full_pitch_Screwball</th>\n",
       "      <th>full_pitch_Slider</th>\n",
       "      <th>full_pitch_Two-Seam Fastball</th>\n",
       "      <th>full_pitch_Unidentified</th>\n",
       "      <th>pitch_rollup_fastball</th>\n",
       "      <th>pitch_rollup_offspeed</th>\n",
       "      <th>pitch_rollup_other</th>\n",
       "    </tr>\n",
       "    <tr>\n",
       "      <th>unique_id</th>\n",
       "      <th></th>\n",
       "      <th></th>\n",
       "      <th></th>\n",
       "      <th></th>\n",
       "      <th></th>\n",
       "      <th></th>\n",
       "      <th></th>\n",
       "      <th></th>\n",
       "      <th></th>\n",
       "      <th></th>\n",
       "      <th></th>\n",
       "      <th></th>\n",
       "      <th></th>\n",
       "      <th></th>\n",
       "      <th></th>\n",
       "      <th></th>\n",
       "      <th></th>\n",
       "      <th></th>\n",
       "      <th></th>\n",
       "      <th></th>\n",
       "      <th></th>\n",
       "    </tr>\n",
       "  </thead>\n",
       "  <tbody>\n",
       "    <tr>\n",
       "      <th>434378-29</th>\n",
       "      <td>-0.098449</td>\n",
       "      <td>-0.121862</td>\n",
       "      <td>-0.193561</td>\n",
       "      <td>-0.291016</td>\n",
       "      <td>-0.336621</td>\n",
       "      <td>-1.237269e+08</td>\n",
       "      <td>-2.451574e+09</td>\n",
       "      <td>-3.762160e+10</td>\n",
       "      <td>-3.068257e+08</td>\n",
       "      <td>-2.813249e+07</td>\n",
       "      <td>...</td>\n",
       "      <td>-1.039342e+21</td>\n",
       "      <td>-2.004817e+95</td>\n",
       "      <td>-1.341372e+154</td>\n",
       "      <td>-1.340828e+154</td>\n",
       "      <td>-2639.70659</td>\n",
       "      <td>-1399.03279</td>\n",
       "      <td>-2.030953e+130</td>\n",
       "      <td>0.000000</td>\n",
       "      <td>-66.682923</td>\n",
       "      <td>-2.275311e+114</td>\n",
       "    </tr>\n",
       "    <tr>\n",
       "      <th>434378-38</th>\n",
       "      <td>-0.108344</td>\n",
       "      <td>-0.116241</td>\n",
       "      <td>-0.507854</td>\n",
       "      <td>-0.314750</td>\n",
       "      <td>-0.460872</td>\n",
       "      <td>-1.237269e+08</td>\n",
       "      <td>0.000000e+00</td>\n",
       "      <td>-3.762160e+10</td>\n",
       "      <td>-3.068257e+08</td>\n",
       "      <td>-2.813249e+07</td>\n",
       "      <td>...</td>\n",
       "      <td>-1.039342e+21</td>\n",
       "      <td>-2.004817e+95</td>\n",
       "      <td>-1.341372e+154</td>\n",
       "      <td>-1.340828e+154</td>\n",
       "      <td>-2639.70659</td>\n",
       "      <td>-1399.03279</td>\n",
       "      <td>-2.030953e+130</td>\n",
       "      <td>0.000000</td>\n",
       "      <td>-66.682923</td>\n",
       "      <td>-2.275311e+114</td>\n",
       "    </tr>\n",
       "    <tr>\n",
       "      <th>434378-56</th>\n",
       "      <td>-0.243565</td>\n",
       "      <td>-0.256109</td>\n",
       "      <td>-0.576965</td>\n",
       "      <td>-0.233709</td>\n",
       "      <td>-0.355950</td>\n",
       "      <td>-1.237269e+08</td>\n",
       "      <td>-2.451574e+09</td>\n",
       "      <td>-3.762160e+10</td>\n",
       "      <td>-3.068257e+08</td>\n",
       "      <td>-2.813249e+07</td>\n",
       "      <td>...</td>\n",
       "      <td>-1.039342e+21</td>\n",
       "      <td>-2.004817e+95</td>\n",
       "      <td>-1.341372e+154</td>\n",
       "      <td>-1.340828e+154</td>\n",
       "      <td>-2639.70659</td>\n",
       "      <td>-1399.03279</td>\n",
       "      <td>-2.030953e+130</td>\n",
       "      <td>-10.691163</td>\n",
       "      <td>0.000000</td>\n",
       "      <td>-2.275311e+114</td>\n",
       "    </tr>\n",
       "  </tbody>\n",
       "</table>\n",
       "<p>3 rows × 86 columns</p>\n",
       "</div>"
      ],
      "text/plain": [
       "                mph    ev_mph      dist  spin_rate  launch_angle  \\\n",
       "unique_id                                                          \n",
       "434378-29 -0.098449 -0.121862 -0.193561  -0.291016     -0.336621   \n",
       "434378-38 -0.108344 -0.116241 -0.507854  -0.314750     -0.460872   \n",
       "434378-56 -0.243565 -0.256109 -0.576965  -0.233709     -0.355950   \n",
       "\n",
       "               zone_1.0     zone_11.0     zone_12.0     zone_13.0  \\\n",
       "unique_id                                                           \n",
       "434378-29 -1.237269e+08 -2.451574e+09 -3.762160e+10 -3.068257e+08   \n",
       "434378-38 -1.237269e+08  0.000000e+00 -3.762160e+10 -3.068257e+08   \n",
       "434378-56 -1.237269e+08 -2.451574e+09 -3.762160e+10 -3.068257e+08   \n",
       "\n",
       "              zone_14.0         ...          full_pitch_Knuckle-curve  \\\n",
       "unique_id                       ...                                     \n",
       "434378-29 -2.813249e+07         ...                     -1.039342e+21   \n",
       "434378-38 -2.813249e+07         ...                     -1.039342e+21   \n",
       "434378-56 -2.813249e+07         ...                     -1.039342e+21   \n",
       "\n",
       "           full_pitch_Knuckleball  full_pitch_Pitch out  full_pitch_Screwball  \\\n",
       "unique_id                                                                       \n",
       "434378-29           -2.004817e+95        -1.341372e+154        -1.340828e+154   \n",
       "434378-38           -2.004817e+95        -1.341372e+154        -1.340828e+154   \n",
       "434378-56           -2.004817e+95        -1.341372e+154        -1.340828e+154   \n",
       "\n",
       "           full_pitch_Slider  full_pitch_Two-Seam Fastball  \\\n",
       "unique_id                                                    \n",
       "434378-29        -2639.70659                   -1399.03279   \n",
       "434378-38        -2639.70659                   -1399.03279   \n",
       "434378-56        -2639.70659                   -1399.03279   \n",
       "\n",
       "           full_pitch_Unidentified  pitch_rollup_fastball  \\\n",
       "unique_id                                                   \n",
       "434378-29           -2.030953e+130               0.000000   \n",
       "434378-38           -2.030953e+130               0.000000   \n",
       "434378-56           -2.030953e+130             -10.691163   \n",
       "\n",
       "           pitch_rollup_offspeed  pitch_rollup_other  \n",
       "unique_id                                             \n",
       "434378-29             -66.682923      -2.275311e+114  \n",
       "434378-38             -66.682923      -2.275311e+114  \n",
       "434378-56               0.000000      -2.275311e+114  \n",
       "\n",
       "[3 rows x 86 columns]"
      ]
     },
     "execution_count": 61,
     "metadata": {},
     "output_type": "execute_result"
    }
   ],
   "source": [
    "df_model_skewnorm.head(3)"
   ]
  },
  {
   "cell_type": "markdown",
   "metadata": {},
   "source": [
    "### Standardize Features"
   ]
  },
  {
   "cell_type": "markdown",
   "metadata": {},
   "source": [
    "**`StandardScaler()` on All Features**"
   ]
  },
  {
   "cell_type": "markdown",
   "metadata": {},
   "source": [
    "Switched from `MinMaxScaler()` in prior notebooks to `StandardScaler()`. I had run `StandardScaler()` on the prior notebooks initially and then later decided to try with `MinMaxScaler()`. While the predictive scores weren't changed by the switch, the `MinMaxScaler()` led to some odd features being deemed important by the feature selection. Therefore, I decided to stick with `StandardScaler()`."
   ]
  },
  {
   "cell_type": "code",
   "execution_count": 62,
   "metadata": {},
   "outputs": [],
   "source": [
    "standardized = (StandardScaler().fit_transform(df_model_skewnorm))\n",
    "df_standardized = pd.DataFrame(standardized, columns=df_model_skewnorm.columns, index=df_model_skewnorm.index)"
   ]
  },
  {
   "cell_type": "code",
   "execution_count": 63,
   "metadata": {},
   "outputs": [
    {
     "data": {
      "text/plain": [
       "(82918, 86)"
      ]
     },
     "execution_count": 63,
     "metadata": {},
     "output_type": "execute_result"
    }
   ],
   "source": [
    "df_standardized.shape"
   ]
  },
  {
   "cell_type": "code",
   "execution_count": 64,
   "metadata": {},
   "outputs": [
    {
     "data": {
      "text/plain": [
       "(82918,)"
      ]
     },
     "execution_count": 64,
     "metadata": {},
     "output_type": "execute_result"
    }
   ],
   "source": [
    "target.shape"
   ]
  },
  {
   "cell_type": "markdown",
   "metadata": {},
   "source": [
    "### Feature Selection"
   ]
  },
  {
   "cell_type": "markdown",
   "metadata": {},
   "source": [
    "#### `SelectFromModel` with L1 penalty estimator"
   ]
  },
  {
   "cell_type": "code",
   "execution_count": 65,
   "metadata": {},
   "outputs": [
    {
     "data": {
      "text/plain": [
       "SelectFromModel(estimator=LogisticRegression(C=1.0, class_weight=None, dual=False, fit_intercept=True,\n",
       "          intercept_scaling=1, max_iter=100, multi_class='ovr', n_jobs=1,\n",
       "          penalty='l1', random_state=None, solver='liblinear', tol=0.0001,\n",
       "          verbose=0, warm_start=False),\n",
       "        prefit=False, threshold='mean')"
      ]
     },
     "execution_count": 65,
     "metadata": {},
     "output_type": "execute_result"
    }
   ],
   "source": [
    "sfm = SelectFromModel(LogisticRegression(penalty='l1'), threshold='mean')\n",
    "sfm.fit(df_standardized, target)"
   ]
  },
  {
   "cell_type": "code",
   "execution_count": 66,
   "metadata": {},
   "outputs": [
    {
     "data": {
      "text/plain": [
       "array([ 1,  2,  4,  8,  9, 18])"
      ]
     },
     "execution_count": 66,
     "metadata": {},
     "output_type": "execute_result"
    }
   ],
   "source": [
    "sfm_feats = np.where(sfm.get_support())[0]\n",
    "sfm_feats"
   ]
  },
  {
   "cell_type": "code",
   "execution_count": 67,
   "metadata": {},
   "outputs": [
    {
     "data": {
      "text/plain": [
       "['ev_mph', 'dist', 'launch_angle', 'zone_13.0', 'zone_14.0', 'zone_unknown']"
      ]
     },
     "execution_count": 67,
     "metadata": {},
     "output_type": "execute_result"
    }
   ],
   "source": [
    "columns = list(df_standardized.columns)\n",
    "\n",
    "sfm_feats_names = []\n",
    "for i in sfm_feats:\n",
    "    sfm_feats_names.append(columns[i])\n",
    "    \n",
    "sfm_feats_names"
   ]
  },
  {
   "cell_type": "markdown",
   "metadata": {},
   "source": [
    "### Create dataframe with only selected features"
   ]
  },
  {
   "cell_type": "code",
   "execution_count": 68,
   "metadata": {},
   "outputs": [],
   "source": [
    "df_slim = df_standardized[sfm_feats_names]"
   ]
  },
  {
   "cell_type": "code",
   "execution_count": 69,
   "metadata": {},
   "outputs": [
    {
     "data": {
      "text/plain": [
       "((82918, 6), (82918,))"
      ]
     },
     "execution_count": 69,
     "metadata": {},
     "output_type": "execute_result"
    }
   ],
   "source": [
    "df_slim.shape, target.shape"
   ]
  },
  {
   "cell_type": "markdown",
   "metadata": {},
   "source": [
    "### `train_test_split` the data"
   ]
  },
  {
   "cell_type": "code",
   "execution_count": 70,
   "metadata": {},
   "outputs": [],
   "source": [
    "X_train, X_test, y_train, y_test = train_test_split(df_slim, target, test_size=.2, stratify=target)"
   ]
  },
  {
   "cell_type": "markdown",
   "metadata": {},
   "source": [
    "### K Neighbors Classifier - manual modeling"
   ]
  },
  {
   "cell_type": "code",
   "execution_count": 71,
   "metadata": {},
   "outputs": [],
   "source": [
    "knn = KNeighborsClassifier()"
   ]
  },
  {
   "cell_type": "code",
   "execution_count": 72,
   "metadata": {},
   "outputs": [
    {
     "data": {
      "text/plain": [
       "KNeighborsClassifier(algorithm='auto', leaf_size=30, metric='minkowski',\n",
       "           metric_params=None, n_jobs=1, n_neighbors=5, p=2,\n",
       "           weights='uniform')"
      ]
     },
     "execution_count": 72,
     "metadata": {},
     "output_type": "execute_result"
    }
   ],
   "source": [
    "knn.fit(X_train, y_train)"
   ]
  },
  {
   "cell_type": "code",
   "execution_count": 73,
   "metadata": {},
   "outputs": [],
   "source": [
    "y_pred = knn.predict(X_test)"
   ]
  },
  {
   "cell_type": "code",
   "execution_count": 74,
   "metadata": {},
   "outputs": [
    {
     "name": "stdout",
     "output_type": "stream",
     "text": [
      "0.775747708635\n"
     ]
    }
   ],
   "source": [
    "print(accuracy_score(y_test, y_pred))"
   ]
  },
  {
   "cell_type": "code",
   "execution_count": 75,
   "metadata": {
    "scrolled": true
   },
   "outputs": [
    {
     "data": {
      "text/plain": [
       "0.77574770863482878"
      ]
     },
     "execution_count": 75,
     "metadata": {},
     "output_type": "execute_result"
    }
   ],
   "source": [
    "knn.score(X_test, y_test)"
   ]
  },
  {
   "cell_type": "code",
   "execution_count": 76,
   "metadata": {
    "scrolled": true
   },
   "outputs": [
    {
     "name": "stdout",
     "output_type": "stream",
     "text": [
      "0.775137553661\n"
     ]
    }
   ],
   "source": [
    "print(f1_score(y_test, y_pred))"
   ]
  },
  {
   "cell_type": "markdown",
   "metadata": {},
   "source": [
    "### Define `run_benchmark` function to automate modeling"
   ]
  },
  {
   "cell_type": "code",
   "execution_count": 77,
   "metadata": {},
   "outputs": [],
   "source": [
    "def run_benchmark(model, model_name, predictors, target):\n",
    "    X_train, X_test, y_train, y_test = train_test_split(predictors, target, stratify=target)\n",
    "    model.fit(X_train, y_train)\n",
    "    y_pred = model.predict(X_test)\n",
    "    return {'train_score' : model.score(X_train, y_train), \n",
    "            'test_score' : model.score(X_test, y_test),\n",
    "            'kappa_score': cohen_kappa_score(y_pred, y_test),\n",
    "            'model_name' : model_name }\n",
    "\n",
    "# credit to Joshua Cook"
   ]
  },
  {
   "cell_type": "markdown",
   "metadata": {},
   "source": [
    "### Run Models on Resampled, Skew-Normalized, and Standardized Data"
   ]
  },
  {
   "cell_type": "markdown",
   "metadata": {},
   "source": [
    "Taking a look at `cohen_kappa_score()` to assess validity of handling class imbalance in this step."
   ]
  },
  {
   "cell_type": "markdown",
   "metadata": {},
   "source": [
    "### K Neighbors Classifier"
   ]
  },
  {
   "cell_type": "code",
   "execution_count": 78,
   "metadata": {},
   "outputs": [],
   "source": [
    "from sklearn.metrics import cohen_kappa_score"
   ]
  },
  {
   "cell_type": "code",
   "execution_count": 79,
   "metadata": {},
   "outputs": [],
   "source": [
    "knn_output = run_benchmark(KNeighborsClassifier(n_jobs=7), \n",
    "                               'kneighbors',\n",
    "                               df_slim, \n",
    "                               target)"
   ]
  },
  {
   "cell_type": "code",
   "execution_count": 80,
   "metadata": {},
   "outputs": [
    {
     "data": {
      "text/plain": [
       "{'kappa_score': 0.55832127351664251,\n",
       " 'model_name': 'kneighbors',\n",
       " 'test_score': 0.77916063675832126,\n",
       " 'train_score': 0.84556506078343086}"
      ]
     },
     "execution_count": 80,
     "metadata": {},
     "output_type": "execute_result"
    }
   ],
   "source": [
    "knn_output"
   ]
  },
  {
   "cell_type": "markdown",
   "metadata": {},
   "source": [
    "### Logistic Regression"
   ]
  },
  {
   "cell_type": "code",
   "execution_count": 81,
   "metadata": {},
   "outputs": [],
   "source": [
    "log_reg_output = run_benchmark(LogisticRegression(n_jobs=7), \n",
    "                               'logistic regression',\n",
    "                               df_slim, \n",
    "                               target)"
   ]
  },
  {
   "cell_type": "code",
   "execution_count": 82,
   "metadata": {},
   "outputs": [
    {
     "data": {
      "text/plain": [
       "{'kappa_score': 0.39787747226242165,\n",
       " 'model_name': 'logistic regression',\n",
       " 'test_score': 0.69893873613121082,\n",
       " 'train_score': 0.69431401556570405}"
      ]
     },
     "execution_count": 82,
     "metadata": {},
     "output_type": "execute_result"
    }
   ],
   "source": [
    "log_reg_output"
   ]
  },
  {
   "cell_type": "markdown",
   "metadata": {},
   "source": [
    "### Decision Tree"
   ]
  },
  {
   "cell_type": "code",
   "execution_count": 83,
   "metadata": {},
   "outputs": [],
   "source": [
    "dtree_output = run_benchmark(DecisionTreeClassifier(), \n",
    "                             'decision tree',\n",
    "                             df_slim, \n",
    "                               target)"
   ]
  },
  {
   "cell_type": "code",
   "execution_count": 84,
   "metadata": {},
   "outputs": [
    {
     "data": {
      "text/plain": [
       "{'kappa_score': 0.48142788229618905,\n",
       " 'model_name': 'decision tree',\n",
       " 'test_score': 0.74071394114809452,\n",
       " 'train_score': 0.99980703672734295}"
      ]
     },
     "execution_count": 84,
     "metadata": {},
     "output_type": "execute_result"
    }
   ],
   "source": [
    "dtree_output"
   ]
  },
  {
   "cell_type": "markdown",
   "metadata": {},
   "source": [
    "### Random Forest Classifier"
   ]
  },
  {
   "cell_type": "code",
   "execution_count": 85,
   "metadata": {},
   "outputs": [],
   "source": [
    "rand_forest_output = run_benchmark(RandomForestClassifier(n_jobs=7), \n",
    "                                  'random forest', \n",
    "                                  df_slim, \n",
    "                                  target)"
   ]
  },
  {
   "cell_type": "code",
   "execution_count": 86,
   "metadata": {
    "scrolled": true
   },
   "outputs": [
    {
     "data": {
      "text/plain": [
       "{'kappa_score': 0.55668113844669564,\n",
       " 'model_name': 'random forest',\n",
       " 'test_score': 0.77834056922334782,\n",
       " 'train_score': 0.98377500482408187}"
      ]
     },
     "execution_count": 86,
     "metadata": {},
     "output_type": "execute_result"
    }
   ],
   "source": [
    "rand_forest_output"
   ]
  },
  {
   "cell_type": "markdown",
   "metadata": {},
   "source": [
    "### Show benchmark models side-by-side"
   ]
  },
  {
   "cell_type": "code",
   "execution_count": 88,
   "metadata": {
    "scrolled": true
   },
   "outputs": [
    {
     "data": {
      "text/html": [
       "<div>\n",
       "<table border=\"1\" class=\"dataframe\">\n",
       "  <thead>\n",
       "    <tr style=\"text-align: right;\">\n",
       "      <th></th>\n",
       "      <th>kappa_score</th>\n",
       "      <th>model_name</th>\n",
       "      <th>test_score</th>\n",
       "      <th>train_score</th>\n",
       "    </tr>\n",
       "  </thead>\n",
       "  <tbody>\n",
       "    <tr>\n",
       "      <th>0</th>\n",
       "      <td>0.558321</td>\n",
       "      <td>kneighbors</td>\n",
       "      <td>0.779161</td>\n",
       "      <td>0.845565</td>\n",
       "    </tr>\n",
       "    <tr>\n",
       "      <th>1</th>\n",
       "      <td>0.397877</td>\n",
       "      <td>logistic regression</td>\n",
       "      <td>0.698939</td>\n",
       "      <td>0.694314</td>\n",
       "    </tr>\n",
       "    <tr>\n",
       "      <th>2</th>\n",
       "      <td>0.481428</td>\n",
       "      <td>decision tree</td>\n",
       "      <td>0.740714</td>\n",
       "      <td>0.999807</td>\n",
       "    </tr>\n",
       "    <tr>\n",
       "      <th>3</th>\n",
       "      <td>0.556681</td>\n",
       "      <td>random forest</td>\n",
       "      <td>0.778341</td>\n",
       "      <td>0.983775</td>\n",
       "    </tr>\n",
       "  </tbody>\n",
       "</table>\n",
       "</div>"
      ],
      "text/plain": [
       "   kappa_score           model_name  test_score  train_score\n",
       "0     0.558321           kneighbors    0.779161     0.845565\n",
       "1     0.397877  logistic regression    0.698939     0.694314\n",
       "2     0.481428        decision tree    0.740714     0.999807\n",
       "3     0.556681        random forest    0.778341     0.983775"
      ]
     },
     "execution_count": 88,
     "metadata": {},
     "output_type": "execute_result"
    }
   ],
   "source": [
    "output = [\n",
    "    knn_output,\n",
    "    log_reg_output,\n",
    "    dtree_output, \n",
    "    rand_forest_output\n",
    "]\n",
    "\n",
    "pd.DataFrame(output)"
   ]
  },
  {
   "cell_type": "markdown",
   "metadata": {},
   "source": [
    "Test scores drop ever so slightly after resampling the target classes. This suggests that the accuracy score was getting bolstered by random chance. While the model doesn't predict as accurately, it is more represntative of how it'll perform on out of sample data."
   ]
  },
  {
   "cell_type": "code",
   "execution_count": null,
   "metadata": {},
   "outputs": [],
   "source": []
  }
 ],
 "metadata": {
  "kernelspec": {
   "display_name": "Python 3",
   "language": "python",
   "name": "python3"
  },
  "language_info": {
   "codemirror_mode": {
    "name": "ipython",
    "version": 3
   },
   "file_extension": ".py",
   "mimetype": "text/x-python",
   "name": "python",
   "nbconvert_exporter": "python",
   "pygments_lexer": "ipython3",
   "version": "3.6.3"
  }
 },
 "nbformat": 4,
 "nbformat_minor": 2
}
